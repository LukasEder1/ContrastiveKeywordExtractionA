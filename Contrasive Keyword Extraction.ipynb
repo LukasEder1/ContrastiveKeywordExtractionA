{
  "cells": [
    {
      "cell_type": "markdown",
      "id": "9adee52a",
      "metadata": {
        "id": "9adee52a"
      },
      "source": [
        "# Contrastive Keyword Extraction"
      ]
    },
    {
      "cell_type": "markdown",
      "source": [
        "### Clone Git Repo and Install required packages"
      ],
      "metadata": {
        "id": "hG1BaDNhGevI"
      },
      "id": "hG1BaDNhGevI"
    },
    {
      "cell_type": "code",
      "source": [
        "from google.colab import drive\n",
        "drive.mount('/content/drive')"
      ],
      "metadata": {
        "id": "Q_U5xm4DPrni",
        "outputId": "04a590f7-a14d-4272-970f-58976d0f393a",
        "colab": {
          "base_uri": "https://localhost:8080/"
        }
      },
      "id": "Q_U5xm4DPrni",
      "execution_count": 1,
      "outputs": [
        {
          "output_type": "stream",
          "name": "stdout",
          "text": [
            "Mounted at /content/drive\n"
          ]
        }
      ]
    },
    {
      "cell_type": "code",
      "source": [
        "!git clone https://github.com/LukasEder1/ContrastiveKeywordExtraction.git"
      ],
      "metadata": {
        "id": "vkPW1dSSFkkS",
        "outputId": "ea2ac835-f9ca-40ab-e411-edcc72882323",
        "colab": {
          "base_uri": "https://localhost:8080/"
        }
      },
      "id": "vkPW1dSSFkkS",
      "execution_count": 2,
      "outputs": [
        {
          "output_type": "stream",
          "name": "stdout",
          "text": [
            "Cloning into 'ContrastiveKeywordExtraction'...\n",
            "remote: Enumerating objects: 41, done.\u001b[K\n",
            "remote: Counting objects: 100% (41/41), done.\u001b[K\n",
            "remote: Compressing objects: 100% (34/34), done.\u001b[K\n",
            "remote: Total 41 (delta 8), reused 0 (delta 0), pack-reused 0\u001b[K\n",
            "Unpacking objects: 100% (41/41), done.\n"
          ]
        }
      ]
    },
    {
      "cell_type": "code",
      "source": [
        "%cd /content/ContrastiveKeywordExtraction\n",
        "!ls"
      ],
      "metadata": {
        "id": "j2RBJE7BF2Cv",
        "outputId": "78b4561a-ab0b-4245-9f43-6c1bfac374d0",
        "colab": {
          "base_uri": "https://localhost:8080/"
        }
      },
      "id": "j2RBJE7BF2Cv",
      "execution_count": 3,
      "outputs": [
        {
          "output_type": "stream",
          "name": "stdout",
          "text": [
            "/content/ContrastiveKeywordExtraction\n",
            "'Contrasive Keyword Extraction.ipynb'   news_processing.py\n",
            "'Create HTML Diffs for sites.ipynb'     policy_processing.py\n",
            " data\t\t\t\t        README.md\n",
            " extraction.ipynb\t\t        sentence_comparision.py\n",
            "'html diff.ipynb'\t\t       'sentence importance.ipynb'\n",
            " images\t\t\t\t        sentence_importance.py\n",
            " keyword_extraction.py\t\t       'sentence matching.ipynb'\n",
            " LexRank.py\t\t\t        util.py\n"
          ]
        }
      ]
    },
    {
      "cell_type": "code",
      "source": [
        "!pip install -r reqs.txt"
      ],
      "metadata": {
        "id": "cnZN2PxWGdWa",
        "outputId": "65d8c79e-4266-4faa-de13-a4fbfff16f68",
        "colab": {
          "base_uri": "https://localhost:8080/"
        }
      },
      "id": "cnZN2PxWGdWa",
      "execution_count": 4,
      "outputs": [
        {
          "output_type": "stream",
          "name": "stdout",
          "text": [
            "\u001b[31mERROR: Could not open requirements file: [Errno 2] No such file or directory: 'reqs.txt'\u001b[0m\n"
          ]
        }
      ]
    },
    {
      "cell_type": "markdown",
      "id": "150c3c05",
      "metadata": {
        "id": "150c3c05"
      },
      "source": [
        "### The following Notebook implements the proposed Constastive Keyword Extraction approach. Depicted in the below image."
      ]
    },
    {
      "cell_type": "markdown",
      "id": "111240f1",
      "metadata": {
        "id": "111240f1"
      },
      "source": [
        "<img src=\"https://github.com/LukasEder1/ContrastiveKeywordExtraction/blob/main/images/pipeline.png?raw=1\" alt=\"pipeline\" />"
      ]
    },
    {
      "cell_type": "code",
      "execution_count": 22,
      "id": "7a2a243f",
      "metadata": {
        "id": "7a2a243f"
      },
      "outputs": [],
      "source": [
        "import sqlite3\n",
        "import pandas as pd\n",
        "import sentence_importance\n",
        "from sentence_comparision import calculate_change_importances, match_sentences, detect_changes\n",
        "import util\n",
        "from sklearn.metrics.pairwise import cosine_similarity\n",
        "from difflib import *\n",
        "import nltk\n",
        "import torch\n",
        "import string\n",
        "from tqdm import trange\n",
        "import markdown\n",
        "from cleantext import clean\n",
        "from yake.highlight import *\n",
        "import numpy as np"
      ]
    },
    {
      "cell_type": "markdown",
      "id": "c9d26802",
      "metadata": {
        "id": "c9d26802"
      },
      "source": [
        "# Princeton-Leuven Longitudinal Corpus of Privacy Policies"
      ]
    },
    {
      "cell_type": "markdown",
      "id": "dfde0617",
      "metadata": {
        "id": "dfde0617"
      },
      "source": [
        "Website: https://privacypolicies.cs.princeton.edu/\n",
        "\n",
        "Used Coloumns:\n",
        "* site_id - index to find different versions of a policy\n",
        "* year - publication year of this version\n",
        "* phase - used if multiple version, where released in same year\n",
        "* policy_title\n",
        "* policy_text - the actual policy\n",
        "* length\n",
        "* categories - set of categories that describe the site\n",
        "* domain"
      ]
    },
    {
      "cell_type": "code",
      "execution_count": 11,
      "id": "f4d90d3f",
      "metadata": {
        "id": "f4d90d3f"
      },
      "outputs": [],
      "source": [
        "conn = sqlite3.connect('/content/drive/MyDrive/data/small10k.sqlite')\n",
        "df = pd.read_sql(\"SELECT * FROM small10k\", con=conn)\n",
        "site_id = 98325"
      ]
    },
    {
      "cell_type": "code",
      "execution_count": 12,
      "id": "b766fbfa",
      "metadata": {
        "id": "b766fbfa"
      },
      "outputs": [],
      "source": [
        "def create_data(df, sid):\n",
        "    data = df[df.site_id == sid]\n",
        "    return data"
      ]
    },
    {
      "cell_type": "code",
      "execution_count": 13,
      "id": "c29b8aa2",
      "metadata": {
        "scrolled": true,
        "id": "c29b8aa2",
        "outputId": "a5457fbd-eed2-46c0-9d73-c1254767136f",
        "colab": {
          "base_uri": "https://localhost:8080/",
          "height": 206
        }
      },
      "outputs": [
        {
          "output_type": "execute_result",
          "data": {
            "text/plain": [
              "      site_id  year phase                                       policy_title  \\\n",
              "4263    98325  2009     B  Privacy Policy - Pay Per Click (PPC) & Bid Opt...   \n",
              "4261    98325  2011     A  Privacy Policy - Pay Per Click (PPC) & Bid Opt...   \n",
              "4259    98325  2011     B                                     Privacy Policy   \n",
              "4260    98325  2012     A                                     Privacy Policy   \n",
              "4262    98325  2012     B                                     Privacy Policy   \n",
              "\n",
              "                                            policy_text  length categories  \\\n",
              "4263  SearchIgnite, Inc. (“Searchignite”), a wholly ...   12116   business   \n",
              "4261  LAST UPDATED: June 9, 2010\\n\\nWe, SearchIgnite...   14308   business   \n",
              "4259  LAST UPDATED: July 14, 2011\\n\\nWe, IgnitionOne...   14368   business   \n",
              "4260  LAST UPDATED: April 4, 2012\\n\\nIgnitionOne, In...   14924   business   \n",
              "4262  LAST UPDATED: July 3, 2012\\n\\nIgnitionOne, Inc...   18403   business   \n",
              "\n",
              "                domain  \n",
              "4263  searchignite.com  \n",
              "4261  searchignite.com  \n",
              "4259  searchignite.com  \n",
              "4260  searchignite.com  \n",
              "4262  searchignite.com  "
            ],
            "text/html": [
              "\n",
              "  <div id=\"df-0549cbb8-145c-4d08-be56-e2f4de1dcd73\">\n",
              "    <div class=\"colab-df-container\">\n",
              "      <div>\n",
              "<style scoped>\n",
              "    .dataframe tbody tr th:only-of-type {\n",
              "        vertical-align: middle;\n",
              "    }\n",
              "\n",
              "    .dataframe tbody tr th {\n",
              "        vertical-align: top;\n",
              "    }\n",
              "\n",
              "    .dataframe thead th {\n",
              "        text-align: right;\n",
              "    }\n",
              "</style>\n",
              "<table border=\"1\" class=\"dataframe\">\n",
              "  <thead>\n",
              "    <tr style=\"text-align: right;\">\n",
              "      <th></th>\n",
              "      <th>site_id</th>\n",
              "      <th>year</th>\n",
              "      <th>phase</th>\n",
              "      <th>policy_title</th>\n",
              "      <th>policy_text</th>\n",
              "      <th>length</th>\n",
              "      <th>categories</th>\n",
              "      <th>domain</th>\n",
              "    </tr>\n",
              "  </thead>\n",
              "  <tbody>\n",
              "    <tr>\n",
              "      <th>4263</th>\n",
              "      <td>98325</td>\n",
              "      <td>2009</td>\n",
              "      <td>B</td>\n",
              "      <td>Privacy Policy - Pay Per Click (PPC) &amp; Bid Opt...</td>\n",
              "      <td>SearchIgnite, Inc. (“Searchignite”), a wholly ...</td>\n",
              "      <td>12116</td>\n",
              "      <td>business</td>\n",
              "      <td>searchignite.com</td>\n",
              "    </tr>\n",
              "    <tr>\n",
              "      <th>4261</th>\n",
              "      <td>98325</td>\n",
              "      <td>2011</td>\n",
              "      <td>A</td>\n",
              "      <td>Privacy Policy - Pay Per Click (PPC) &amp; Bid Opt...</td>\n",
              "      <td>LAST UPDATED: June 9, 2010\\n\\nWe, SearchIgnite...</td>\n",
              "      <td>14308</td>\n",
              "      <td>business</td>\n",
              "      <td>searchignite.com</td>\n",
              "    </tr>\n",
              "    <tr>\n",
              "      <th>4259</th>\n",
              "      <td>98325</td>\n",
              "      <td>2011</td>\n",
              "      <td>B</td>\n",
              "      <td>Privacy Policy</td>\n",
              "      <td>LAST UPDATED: July 14, 2011\\n\\nWe, IgnitionOne...</td>\n",
              "      <td>14368</td>\n",
              "      <td>business</td>\n",
              "      <td>searchignite.com</td>\n",
              "    </tr>\n",
              "    <tr>\n",
              "      <th>4260</th>\n",
              "      <td>98325</td>\n",
              "      <td>2012</td>\n",
              "      <td>A</td>\n",
              "      <td>Privacy Policy</td>\n",
              "      <td>LAST UPDATED: April 4, 2012\\n\\nIgnitionOne, In...</td>\n",
              "      <td>14924</td>\n",
              "      <td>business</td>\n",
              "      <td>searchignite.com</td>\n",
              "    </tr>\n",
              "    <tr>\n",
              "      <th>4262</th>\n",
              "      <td>98325</td>\n",
              "      <td>2012</td>\n",
              "      <td>B</td>\n",
              "      <td>Privacy Policy</td>\n",
              "      <td>LAST UPDATED: July 3, 2012\\n\\nIgnitionOne, Inc...</td>\n",
              "      <td>18403</td>\n",
              "      <td>business</td>\n",
              "      <td>searchignite.com</td>\n",
              "    </tr>\n",
              "  </tbody>\n",
              "</table>\n",
              "</div>\n",
              "      <button class=\"colab-df-convert\" onclick=\"convertToInteractive('df-0549cbb8-145c-4d08-be56-e2f4de1dcd73')\"\n",
              "              title=\"Convert this dataframe to an interactive table.\"\n",
              "              style=\"display:none;\">\n",
              "        \n",
              "  <svg xmlns=\"http://www.w3.org/2000/svg\" height=\"24px\"viewBox=\"0 0 24 24\"\n",
              "       width=\"24px\">\n",
              "    <path d=\"M0 0h24v24H0V0z\" fill=\"none\"/>\n",
              "    <path d=\"M18.56 5.44l.94 2.06.94-2.06 2.06-.94-2.06-.94-.94-2.06-.94 2.06-2.06.94zm-11 1L8.5 8.5l.94-2.06 2.06-.94-2.06-.94L8.5 2.5l-.94 2.06-2.06.94zm10 10l.94 2.06.94-2.06 2.06-.94-2.06-.94-.94-2.06-.94 2.06-2.06.94z\"/><path d=\"M17.41 7.96l-1.37-1.37c-.4-.4-.92-.59-1.43-.59-.52 0-1.04.2-1.43.59L10.3 9.45l-7.72 7.72c-.78.78-.78 2.05 0 2.83L4 21.41c.39.39.9.59 1.41.59.51 0 1.02-.2 1.41-.59l7.78-7.78 2.81-2.81c.8-.78.8-2.07 0-2.86zM5.41 20L4 18.59l7.72-7.72 1.47 1.35L5.41 20z\"/>\n",
              "  </svg>\n",
              "      </button>\n",
              "      \n",
              "  <style>\n",
              "    .colab-df-container {\n",
              "      display:flex;\n",
              "      flex-wrap:wrap;\n",
              "      gap: 12px;\n",
              "    }\n",
              "\n",
              "    .colab-df-convert {\n",
              "      background-color: #E8F0FE;\n",
              "      border: none;\n",
              "      border-radius: 50%;\n",
              "      cursor: pointer;\n",
              "      display: none;\n",
              "      fill: #1967D2;\n",
              "      height: 32px;\n",
              "      padding: 0 0 0 0;\n",
              "      width: 32px;\n",
              "    }\n",
              "\n",
              "    .colab-df-convert:hover {\n",
              "      background-color: #E2EBFA;\n",
              "      box-shadow: 0px 1px 2px rgba(60, 64, 67, 0.3), 0px 1px 3px 1px rgba(60, 64, 67, 0.15);\n",
              "      fill: #174EA6;\n",
              "    }\n",
              "\n",
              "    [theme=dark] .colab-df-convert {\n",
              "      background-color: #3B4455;\n",
              "      fill: #D2E3FC;\n",
              "    }\n",
              "\n",
              "    [theme=dark] .colab-df-convert:hover {\n",
              "      background-color: #434B5C;\n",
              "      box-shadow: 0px 1px 3px 1px rgba(0, 0, 0, 0.15);\n",
              "      filter: drop-shadow(0px 1px 2px rgba(0, 0, 0, 0.3));\n",
              "      fill: #FFFFFF;\n",
              "    }\n",
              "  </style>\n",
              "\n",
              "      <script>\n",
              "        const buttonEl =\n",
              "          document.querySelector('#df-0549cbb8-145c-4d08-be56-e2f4de1dcd73 button.colab-df-convert');\n",
              "        buttonEl.style.display =\n",
              "          google.colab.kernel.accessAllowed ? 'block' : 'none';\n",
              "\n",
              "        async function convertToInteractive(key) {\n",
              "          const element = document.querySelector('#df-0549cbb8-145c-4d08-be56-e2f4de1dcd73');\n",
              "          const dataTable =\n",
              "            await google.colab.kernel.invokeFunction('convertToInteractive',\n",
              "                                                     [key], {});\n",
              "          if (!dataTable) return;\n",
              "\n",
              "          const docLinkHtml = 'Like what you see? Visit the ' +\n",
              "            '<a target=\"_blank\" href=https://colab.research.google.com/notebooks/data_table.ipynb>data table notebook</a>'\n",
              "            + ' to learn more about interactive tables.';\n",
              "          element.innerHTML = '';\n",
              "          dataTable['output_type'] = 'display_data';\n",
              "          await google.colab.output.renderOutput(dataTable, element);\n",
              "          const docLink = document.createElement('div');\n",
              "          docLink.innerHTML = docLinkHtml;\n",
              "          element.appendChild(docLink);\n",
              "        }\n",
              "      </script>\n",
              "    </div>\n",
              "  </div>\n",
              "  "
            ]
          },
          "metadata": {},
          "execution_count": 13
        }
      ],
      "source": [
        "# sort first by year, then by phase\n",
        "data = create_data(df.sort_values(by=['year', 'phase']), site_id)\n",
        "data"
      ]
    },
    {
      "cell_type": "code",
      "execution_count": 14,
      "id": "2d8ed8b1",
      "metadata": {
        "id": "2d8ed8b1"
      },
      "outputs": [],
      "source": [
        "def get_policy_texts(data):\n",
        "    return list(data['policy_text'])"
      ]
    },
    {
      "cell_type": "code",
      "execution_count": 15,
      "id": "0124e083",
      "metadata": {
        "id": "0124e083"
      },
      "outputs": [],
      "source": [
        "policy_texts = get_policy_texts(data)"
      ]
    },
    {
      "cell_type": "markdown",
      "id": "681c8a2c",
      "metadata": {
        "id": "681c8a2c"
      },
      "source": [
        "# Clean the Policy Text"
      ]
    },
    {
      "cell_type": "code",
      "execution_count": 23,
      "id": "4063f4c4",
      "metadata": {
        "id": "4063f4c4"
      },
      "outputs": [],
      "source": [
        "cleaning_func = lambda text : clean(text,\n",
        "    fix_unicode=True,               # fix various unicode errors\n",
        "    to_ascii=True,                  # transliterate to closest ASCII representation\n",
        "    lower=False,                     # lowercase text\n",
        "    no_line_breaks=False,           # fully strip line breaks as opposed to only normalizing them\n",
        "    no_urls=False,                  # replace all URLs with a special token\n",
        "    no_emails=False,                # replace all email addresses with a special token\n",
        "    no_phone_numbers=False,         # replace all phone numbers with a special token\n",
        "    no_numbers=False,               # replace all numbers with a special token\n",
        "    no_digits=False,                # replace all digits with a special token\n",
        "    no_currency_symbols=False,      # replace all currency symbols with a special token\n",
        "    no_punct=False,                 # remove punctuations\n",
        "    replace_with_punct=\"\",          # instead of removing punctuations you may replace them\n",
        "    replace_with_url=\"<URL>\",\n",
        "    replace_with_email=\"<EMAIL>\",\n",
        "    replace_with_phone_number=\"<PHONE>\",\n",
        "    replace_with_number=\"<NUMBER>\",\n",
        "    replace_with_digit=\"0\",\n",
        "    replace_with_currency_symbol=\"<CUR>\",\n",
        "    lang=\"en\"              \n",
        ")"
      ]
    },
    {
      "cell_type": "code",
      "execution_count": 24,
      "id": "ecf27f6d",
      "metadata": {
        "id": "ecf27f6d"
      },
      "outputs": [],
      "source": [
        "def clean_text(documents, cleaning_function):\n",
        "    cleaned_documents = []\n",
        "    \n",
        "    for document in documents:\n",
        "        cleaned_documents.append(cleaning_function(document))\n",
        "    \n",
        "    return cleaned_documents"
      ]
    },
    {
      "cell_type": "code",
      "execution_count": 25,
      "id": "a08d2447",
      "metadata": {
        "id": "a08d2447",
        "outputId": "f2c123aa-5d0c-4993-c310-0199d55880c8",
        "colab": {
          "base_uri": "https://localhost:8080/",
          "height": 328
        }
      },
      "outputs": [
        {
          "output_type": "error",
          "ename": "TypeError",
          "evalue": "ignored",
          "traceback": [
            "\u001b[0;31m---------------------------------------------------------------------------\u001b[0m",
            "\u001b[0;31mTypeError\u001b[0m                                 Traceback (most recent call last)",
            "\u001b[0;32m<ipython-input-25-d09c390a90c2>\u001b[0m in \u001b[0;36m<module>\u001b[0;34m\u001b[0m\n\u001b[1;32m      1\u001b[0m \u001b[0;31m# cleaned documents in chronological order\u001b[0m\u001b[0;34m\u001b[0m\u001b[0;34m\u001b[0m\u001b[0;34m\u001b[0m\u001b[0m\n\u001b[0;32m----> 2\u001b[0;31m \u001b[0mdocuments\u001b[0m \u001b[0;34m=\u001b[0m \u001b[0mclean_text\u001b[0m\u001b[0;34m(\u001b[0m\u001b[0mpolicy_texts\u001b[0m\u001b[0;34m,\u001b[0m \u001b[0mcleaning_func\u001b[0m\u001b[0;34m)\u001b[0m\u001b[0;34m\u001b[0m\u001b[0;34m\u001b[0m\u001b[0m\n\u001b[0m",
            "\u001b[0;32m<ipython-input-24-98a8d53995e2>\u001b[0m in \u001b[0;36mclean_text\u001b[0;34m(documents, cleaning_function)\u001b[0m\n\u001b[1;32m      3\u001b[0m \u001b[0;34m\u001b[0m\u001b[0m\n\u001b[1;32m      4\u001b[0m     \u001b[0;32mfor\u001b[0m \u001b[0mdocument\u001b[0m \u001b[0;32min\u001b[0m \u001b[0mdocuments\u001b[0m\u001b[0;34m:\u001b[0m\u001b[0;34m\u001b[0m\u001b[0;34m\u001b[0m\u001b[0m\n\u001b[0;32m----> 5\u001b[0;31m         \u001b[0mcleaned_documents\u001b[0m\u001b[0;34m.\u001b[0m\u001b[0mappend\u001b[0m\u001b[0;34m(\u001b[0m\u001b[0mcleaning_function\u001b[0m\u001b[0;34m(\u001b[0m\u001b[0mdocument\u001b[0m\u001b[0;34m)\u001b[0m\u001b[0;34m)\u001b[0m\u001b[0;34m\u001b[0m\u001b[0;34m\u001b[0m\u001b[0m\n\u001b[0m\u001b[1;32m      6\u001b[0m \u001b[0;34m\u001b[0m\u001b[0m\n\u001b[1;32m      7\u001b[0m     \u001b[0;32mreturn\u001b[0m \u001b[0mcleaned_documents\u001b[0m\u001b[0;34m\u001b[0m\u001b[0;34m\u001b[0m\u001b[0m\n",
            "\u001b[0;32m<ipython-input-23-26d44ba7d5f3>\u001b[0m in \u001b[0;36m<lambda>\u001b[0;34m(text)\u001b[0m\n\u001b[0;32m----> 1\u001b[0;31m cleaning_func = lambda text : clean(text,\n\u001b[0m\u001b[1;32m      2\u001b[0m     \u001b[0mfix_unicode\u001b[0m\u001b[0;34m=\u001b[0m\u001b[0;32mTrue\u001b[0m\u001b[0;34m,\u001b[0m               \u001b[0;31m# fix various unicode errors\u001b[0m\u001b[0;34m\u001b[0m\u001b[0;34m\u001b[0m\u001b[0m\n\u001b[1;32m      3\u001b[0m     \u001b[0mto_ascii\u001b[0m\u001b[0;34m=\u001b[0m\u001b[0;32mTrue\u001b[0m\u001b[0;34m,\u001b[0m                  \u001b[0;31m# transliterate to closest ASCII representation\u001b[0m\u001b[0;34m\u001b[0m\u001b[0;34m\u001b[0m\u001b[0m\n\u001b[1;32m      4\u001b[0m     \u001b[0mlower\u001b[0m\u001b[0;34m=\u001b[0m\u001b[0;32mFalse\u001b[0m\u001b[0;34m,\u001b[0m                     \u001b[0;31m# lowercase text\u001b[0m\u001b[0;34m\u001b[0m\u001b[0;34m\u001b[0m\u001b[0m\n\u001b[1;32m      5\u001b[0m     \u001b[0mno_line_breaks\u001b[0m\u001b[0;34m=\u001b[0m\u001b[0;32mFalse\u001b[0m\u001b[0;34m,\u001b[0m           \u001b[0;31m# fully strip line breaks as opposed to only normalizing them\u001b[0m\u001b[0;34m\u001b[0m\u001b[0;34m\u001b[0m\u001b[0m\n",
            "\u001b[0;31mTypeError\u001b[0m: clean() got an unexpected keyword argument 'fix_unicode'"
          ]
        }
      ],
      "source": [
        "# cleaned documents in chronological order\n",
        "documents = clean_text(policy_texts, cleaning_func)"
      ]
    },
    {
      "cell_type": "markdown",
      "id": "64ed3ec8",
      "metadata": {
        "id": "64ed3ec8"
      },
      "source": [
        "# Combine $I_S$ and $I_C$ into Final Score -> Keywords"
      ]
    },
    {
      "cell_type": "code",
      "execution_count": null,
      "id": "82a1c476",
      "metadata": {
        "id": "82a1c476"
      },
      "outputs": [],
      "source": [
        "def final_score(document, version,changed_indices, new_indices, matched_dict, ranking, I_c, max_ngram, \n",
        "                combinator=util.alpha_combination, k=0, alpha_gamma=0.5, min_ngram = 1):\n",
        "    \n",
        "    sentences = nltk.sent_tokenize(document) \n",
        "    \n",
        "    \n",
        "    I_s = ranking[version]\n",
        "    \n",
        "    #sen_frequencies = util.build_sentence_level_freqs(document)\n",
        "    \n",
        "    \n",
        "    keywords = {}\n",
        "        \n",
        "    # changed sentences    \n",
        "    for i in changed_indices:\n",
        "        matched_idx, score = matched_dict[i][k]\n",
        "        # get the actual sentence\n",
        "        # matched_sentence = sentences[matched_idx]\n",
        "        I_ci = I_c[i]\n",
        "        I_si = I_s[int(matched_idx)] \n",
        "        \n",
        "        s_c = combinator(I_ci, I_si, alpha_gamma)\n",
        "        \n",
        "        #print(s_c)\n",
        "        \n",
        "        current_freqs = util.build_sentence_freqs_max_ngram(sentences[matched_idx], \n",
        "                                                       higher_ngram=max_ngram, lower_ngram=min_ngram)\n",
        "        \n",
        "        #print(current_freqs)\n",
        "        \n",
        "        for word, freq in current_freqs.items():\n",
        "            keywords[word] = keywords.get(word, 0) + (freq * s_c)\n",
        "            \n",
        "        \n",
        "    \"\"\"\n",
        "    # newly added sentence:\n",
        "    for i in new_indices:\n",
        "        \n",
        "        current_freqs = util.build_sentence_freqs(sentences[i])\n",
        "        \n",
        "        for word, freq in current_freqs.items():\n",
        "            keywords[word] = keywords.get(word, 0) + (freq * I_s[i])\n",
        "            \n",
        "   \"\"\"     \n",
        "    # total \"IMPORTANCE COUNT\n",
        "    total_count = sum(keywords.values())\n",
        "    \n",
        "    # sort keywords + normalize\n",
        "    keywords = {k: v/total_count  for k, v in sorted(keywords.items(), key=lambda item: item[1], \n",
        "                                                 reverse=True)}\n",
        "    \n",
        "    \n",
        "    return keywords"
      ]
    },
    {
      "cell_type": "code",
      "execution_count": null,
      "id": "97f01d0b",
      "metadata": {
        "id": "97f01d0b"
      },
      "outputs": [],
      "source": [
        "def contrastive_extraction(documents, max_ngram, min_ngram=1, \n",
        "                           importance_estimator= sentence_importance.text_rank_importance,\n",
        "                           combinator=util.alpha_combination, threshold=0.6, top_k=1, alpha_gamma=0.5, \n",
        "                           matching_model='all-MiniLM-L6-v2', w0 = 3, w1 = 1, w2 = 1, show_changes=False):\n",
        "    \n",
        "    versions = len(documents)\n",
        "    \n",
        "    \n",
        "    #rank all sentences in their respective version in the total document catalogue\n",
        "    # available esitmators: text_rank_importance, yake_weighted_importance, yake_unweighted_importance \n",
        "    ranking = importance_estimator(documents)\n",
        "    \n",
        "    # intermediate keywords\n",
        "    keyword_collection = {version:{} for version in range(versions-1)}\n",
        "    \n",
        "    changed_sentences = {version: [] for version in range(versions-1)}\n",
        "    \n",
        "    matched_dicts = {version: {} for version in range(versions-1)}\n",
        "    \n",
        "    additions = {version: {} for version in range(versions-1)}\n",
        "    \n",
        "    deletions = {version: {} for version in range(versions-1)}\n",
        "    \n",
        "    for i in trange(versions-1):\n",
        "        \n",
        "        i_next = i + 1\n",
        "        \n",
        "        # matching\n",
        "        matched_dict = match_sentences(documents[i], documents[i+1], k = top_k, model=matching_model)\n",
        "        \n",
        "        \n",
        "        matched_dicts[i] = matched_dict\n",
        "        \n",
        "        # determine WHAT has changed\n",
        "        changed_indices, new_indices, adds, delet = detect_changes(matched_dict, documents[i], documents[i+1], \n",
        "                                           important_indices=[], show_output=show_changes)\n",
        "        \n",
        "        additions[i] = adds\n",
        "        \n",
        "        deletions[i] = delet\n",
        "        \n",
        "        changed_sentences[i] = changed_indices\n",
        "        \n",
        "        # determine HOW important the change was\n",
        "        I_c = calculate_change_importances(changed_indices, matched_dict, ranking ,threshold, \n",
        "                                           version=i, w0 = w0, w1 = w1, w2=w2)\n",
        "        \n",
        "        # calculate keywords between two subsequent versions\n",
        "        intermediate_keywords = final_score(documents[i+1], i+1, changed_indices, new_indices, matched_dict, \n",
        "                                            ranking, I_c, max_ngram, combinator, alpha_gamma=alpha_gamma, \n",
        "                                            min_ngram= min_ngram)\n",
        "        \n",
        "        # add to overall dictonary\n",
        "        # index n: contrastive keywords for versions n and n+1\n",
        "        keyword_collection[i] = intermediate_keywords\n",
        "    \n",
        "    return keyword_collection, matched_dicts, changed_sentences, additions, deletions"
      ]
    },
    {
      "cell_type": "code",
      "execution_count": null,
      "id": "059188e1",
      "metadata": {
        "id": "059188e1",
        "outputId": "c32e5170-f750-4b2e-a5a6-76d9e4e46f93"
      },
      "outputs": [
        {
          "name": "stderr",
          "output_type": "stream",
          "text": [
            "100%|██████████| 4/4 [00:25<00:00,  6.41s/it]\n"
          ]
        }
      ],
      "source": [
        "keywords, matched_dicts, changed_sentences, added, deleted = contrastive_extraction(documents, max_ngram=2, min_ngram=1, \n",
        "                                                                    show_changes=False)"
      ]
    },
    {
      "cell_type": "code",
      "execution_count": null,
      "id": "633b8115",
      "metadata": {
        "id": "633b8115",
        "outputId": "572f13bb-1acd-4c8f-b84d-fb6a0409bfa7"
      },
      "outputs": [
        {
          "data": {
            "text/plain": [
              "dict_values([{'information': tensor(0.0302), 'personal': tensor(0.0243), 'personal information': tensor(0.0243), 'searchignite': tensor(0.0193), 'privacy': tensor(0.0180), 'use': tensor(0.0176), 'inc': tensor(0.0173), 'searchignite inc': tensor(0.0173), 'collect': tensor(0.0131), 'disclose': tensor(0.0113), 'disclose personal': tensor(0.0113), 'may': tensor(0.0112), 'last': tensor(0.0101), 'updated': tensor(0.0100), 'last updated': tensor(0.0100), 'june': tensor(0.0099), '9': tensor(0.0099), '2010': tensor(0.0099), 'concerned': tensor(0.0099), 'issues': tensor(0.0099), 'want': tensor(0.0099), 'familiar': tensor(0.0099), 'defined': tensor(0.0099), 'updated june': tensor(0.0099), 'june 9': tensor(0.0099), '9 2010': tensor(0.0099), '2010 searchignite': tensor(0.0099), 'inc concerned': tensor(0.0099), 'concerned privacy': tensor(0.0099), 'privacy issues': tensor(0.0099), 'issues want': tensor(0.0099), 'want familiar': tensor(0.0099), 'familiar collect': tensor(0.0099), 'collect use': tensor(0.0099), 'use disclose': tensor(0.0099), 'information defined': tensor(0.0099), 'party': tensor(0.0087), 'services': tensor(0.0073), 'responsible': tensor(0.0068), 'policy': tensor(0.0067), 'management': tensor(0.0063), 'jointlyused': tensor(0.0063), 'inc party': tensor(0.0063), 'party responsible': tensor(0.0063), 'responsible management': tensor(0.0063), 'management jointlyused': tensor(0.0063), 'jointlyused personal': tensor(0.0063), 'site': tensor(0.0059), 'us': tensor(0.0054), 'please': tensor(0.0051), 'privacy policy': tensor(0.0051), 'may use': tensor(0.0048), 'email': tensor(0.0048), 'connection': tensor(0.0044), 'address': tensor(0.0037), 'companies': tensor(0.0036), 'use personal': tensor(0.0035), 'provided': tensor(0.0035), 'practices': tensor(0.0033), 'contact': tensor(0.0032), 'browser': tensor(0.0031), 'advertising': tensor(0.0030), 'third': tensor(0.0030), 'provide': tensor(0.0028), 'information collect': tensor(0.0027), 'http': tensor(0.0027), 'place': tensor(0.0025), 'may place': tensor(0.0025), 'searchignitecom': tensor(0.0025), 'contact us': tensor(0.0025), 'privacy searchignitecom': tensor(0.0025), 'third party': tensor(0.0024), 'affiliates': tensor(0.0024), 'fax': tensor(0.0023), 'computer': tensor(0.0022), 'analytics': tensor(0.0022), 'analytics services': tensor(0.0022), 'recognize': tensor(0.0021), 'cookie': tensor(0.0021), 'cookie browser': tensor(0.0021), 'describes': tensor(0.0021), 'wwwsearchignitecom': tensor(0.0021), 'offline': tensor(0.0021), 'policy describes': tensor(0.0021), 'describes practices': tensor(0.0021), 'practices connection': tensor(0.0021), 'connection personal': tensor(0.0021), 'collect http': tensor(0.0021), 'http wwwsearchignitecom': tensor(0.0021), 'wwwsearchignitecom site': tensor(0.0021), 'site offline': tensor(0.0021), 'offline connection': tensor(0.0021), 'connection services': tensor(0.0021), 'services provide': tensor(0.0021), 'number': tensor(0.0020), 'cookies': tensor(0.0020), 'web': tensor(0.0020), 'beacons': tensor(0.0020), 'web beacons': tensor(0.0020), 'thirdparty': tensor(0.0020), 'thirdparty advertising': tensor(0.0020), 'advertising companies': tensor(0.0020), 'regarding': tensor(0.0019), 'described': tensor(0.0018), 'course': tensor(0.0017), 'serving': tensor(0.0017), 'advertisements': tensor(0.0017), 'unique': tensor(0.0017), 'course serving': tensor(0.0017), 'serving advertisements': tensor(0.0017), 'advertisements companies': tensor(0.0017), 'companies may': tensor(0.0017), 'place recognize': tensor(0.0017), 'recognize unique': tensor(0.0017), 'unique cookie': tensor(0.0017), 'request': tensor(0.0017), 'data': tensor(0.0016), 'note': tensor(0.0015), 'please note': tensor(0.0015), 'internet': tensor(0.0015), 'purposes': tensor(0.0015), 'may disclose': tensor(0.0015), 'information affiliates': tensor(0.0015), 'affiliates may': tensor(0.0015), 'information purposes': tensor(0.0015), 'purposes described': tensor(0.0015), 'described policy': tensor(0.0015), 'example': tensor(0.0014), 'including': tensor(0.0014), 'optout': tensor(0.0013), 'service': tensor(0.0013), 'searchignite analytics': tensor(0.0013), 'would': tensor(0.0013), 'like': tensor(0.0013), 'change': tensor(0.0013), 'suppress': tensor(0.0013), 'otherwise': tensor(0.0013), 'limit': tensor(0.0013), 'previously': tensor(0.0013), 'sending': tensor(0.0013), 'containing': tensor(0.0013), 'would like': tensor(0.0013), 'like change': tensor(0.0013), 'change suppress': tensor(0.0013), 'suppress otherwise': tensor(0.0013), 'otherwise limit': tensor(0.0013), 'limit use': tensor(0.0013), 'information previously': tensor(0.0013), 'previously provided': tensor(0.0013), 'provided us': tensor(0.0013), 'us may': tensor(0.0013), 'may contact': tensor(0.0013), 'us sending': tensor(0.0013), 'sending email': tensor(0.0013), 'email containing': tensor(0.0013), 'containing request': tensor(0.0013), 'request privacy': tensor(0.0013), 'communications': tensor(0.0013), 'secure': tensor(0.0013), 'policy address': tensor(0.0012), 'andor': tensor(0.0012), 'questions': tensor(0.0012), 'write': tensor(0.0012), 'following': tensor(0.0012), 'legal': tensor(0.0012), 'department': tensor(0.0012), 'pmb': tensor(0.0012), '2392': tensor(0.0012), '101': tensor(0.0012), 'w': tensor(0.0012), '23rd': tensor(0.0012), 'street': tensor(0.0012), 'new': tensor(0.0012), 'york': tensor(0.0012), 'ny': tensor(0.0012), '10011': tensor(0.0012), '2127037276': tensor(0.0012), 'necessarily': tensor(0.0012), 'accordingly': tensor(0.0012), 'include': tensor(0.0012), 'credit': tensor(0.0012), 'card': tensor(0.0012), 'correspondence': tensor(0.0012), 'questions regarding': tensor(0.0012), 'regarding privacy': tensor(0.0012), 'policy please': tensor(0.0012), 'please contact': tensor(0.0012), 'us email': tensor(0.0012), 'email privacy': tensor(0.0012), 'searchignitecom please': tensor(0.0012), 'please write': tensor(0.0012), 'write following': tensor(0.0012), 'following address': tensor(0.0012), 'address fax': tensor(0.0012), 'fax number': tensor(0.0012), 'number legal': tensor(0.0012), 'legal department': tensor(0.0012), 'department searchignite': tensor(0.0012), 'inc pmb': tensor(0.0012), 'pmb 2392': tensor(0.0012), '2392 101': tensor(0.0012), '101 w': tensor(0.0012), 'w 23rd': tensor(0.0012), '23rd street': tensor(0.0012), 'street new': tensor(0.0012), 'new york': tensor(0.0012), 'york ny': tensor(0.0012), 'ny 10011': tensor(0.0012), '10011 fax': tensor(0.0012), 'fax 2127037276': tensor(0.0012), '2127037276 please': tensor(0.0012), 'note email': tensor(0.0012), 'email communications': tensor(0.0012), 'communications necessarily': tensor(0.0012), 'necessarily secure': tensor(0.0012), 'secure accordingly': tensor(0.0012), 'accordingly include': tensor(0.0012), 'include credit': tensor(0.0012), 'credit card': tensor(0.0012), 'card information': tensor(0.0012), 'information email': tensor(0.0012), 'email correspondence': tensor(0.0012), 'correspondence us': tensor(0.0012), 'learn': tensor(0.0011), 'ip': tensor(0.0010), 'addition': tensor(0.0010), 'help': tensor(0.0010), 'manage': tensor(0.0010), 'online': tensor(0.0010), 'addition may': tensor(0.0010), 'use web': tensor(0.0010), 'beacons provided': tensor(0.0010), 'provided thirdparty': tensor(0.0010), 'companies help': tensor(0.0010), 'help manage': tensor(0.0010), 'manage online': tensor(0.0010), 'online advertising': tensor(0.0010), 'purpose': tensor(0.0010), 'information purpose': tensor(0.0010), 'serve': tensor(0.0009), 'ads': tensor(0.0009), 'record': tensor(0.0009), 'usage': tensor(0.0009), 'behalf': tensor(0.0009), 'example may': tensor(0.0009), 'use third': tensor(0.0009), 'party analytics': tensor(0.0009), 'services may': tensor(0.0009), 'place cookies': tensor(0.0009), 'cookies computer': tensor(0.0009), 'computer record': tensor(0.0009), 'record data': tensor(0.0009), 'data site': tensor(0.0009), 'site usage': tensor(0.0009), 'usage behalf': tensor(0.0009), 'without': tensor(0.0009), 'limitation': tensor(0.0009), 'including without': tensor(0.0009), 'without limitation': tensor(0.0009), 'automatically': tensor(0.0009), 'assigned': tensor(0.0009), 'using': tensor(0.0009), 'provider': tensor(0.0009), 'isp': tensor(0.0009), 'ip address': tensor(0.0009), 'address number': tensor(0.0009), 'number automatically': tensor(0.0009), 'automatically assigned': tensor(0.0009), 'assigned computer': tensor(0.0009), 'computer using': tensor(0.0009), 'using internet': tensor(0.0009), 'internet service': tensor(0.0009), 'service provider': tensor(0.0009), 'provider isp': tensor(0.0009), 'similar': tensor(0.0008), 'eg': tensor(0.0008), 'sign': tensor(0.0008), 'customer': tensor(0.0008), 'partner': tensor(0.0008), 'send': tensor(0.0008), 'requested': tensor(0.0008), 'purpose provided': tensor(0.0008), 'provided eg': tensor(0.0008), 'eg provide': tensor(0.0008), 'provide services': tensor(0.0008), 'services contact': tensor(0.0008), 'contact regarding': tensor(0.0008), 'regarding services': tensor(0.0008), 'services sign': tensor(0.0008), 'sign customer': tensor(0.0008), 'customer partner': tensor(0.0008), 'partner andor': tensor(0.0008), 'andor send': tensor(0.0008), 'send requested': tensor(0.0008), 'requested information': tensor(0.0008), 'nonpersonal': tensor(0.0007), 'nonpersonal information': tensor(0.0007), 'already': tensor(0.0007), 'collection': tensor(0.0007), 'disclosure': tensor(0.0007), 'wish': tensor(0.0007), 'understand': tensor(0.0007), 'respect': tensor(0.0007), 'via': tensor(0.0007), 'review': tensor(0.0007), 'address collection': tensor(0.0007), 'collection use': tensor(0.0007), 'use disclosure': tensor(0.0007), 'disclosure information': tensor(0.0007), 'information searchignite': tensor(0.0007), 'services wish': tensor(0.0007), 'wish understand': tensor(0.0007), 'understand practices': tensor(0.0007), 'practices respect': tensor(0.0007), 'respect information': tensor(0.0007), 'collect via': tensor(0.0007), 'via searchignite': tensor(0.0007), 'services please': tensor(0.0007), 'please review': tensor(0.0007), 'review searchignite': tensor(0.0007), 'searchignite services': tensor(0.0007), 'services privacy': tensor(0.0007), 'parties': tensor(0.0006), 'operating': tensor(0.0006), 'contains': tensor(0.0006), 'link': tensor(0.0006), 'address responsible': tensor(0.0006), 'responsible privacy': tensor(0.0006), 'privacy information': tensor(0.0006), 'information practices': tensor(0.0006), 'practices third': tensor(0.0006), 'third parties': tensor(0.0006), 'parties including': tensor(0.0006), 'limitation affiliates': tensor(0.0006), 'affiliates third': tensor(0.0006), 'party operating': tensor(0.0006), 'operating site': tensor(0.0006), 'site site': tensor(0.0006), 'site contains': tensor(0.0006), 'contains link': tensor(0.0006), 'go': tensor(0.0005), 'wwwnetworkadvertisingorgconsumeroptoutasp': tensor(0.0005), 'learn thirdparty': tensor(0.0005), 'companies cookies': tensor(0.0005), 'cookies optout': tensor(0.0005), 'optout please': tensor(0.0005), 'please go': tensor(0.0005), 'go http': tensor(0.0005), 'http wwwnetworkadvertisingorgconsumeroptoutasp': tensor(0.0005), 'providers': tensor(0.0005), 'mac': tensor(0.0005), 'type': tensor(0.0005), 'screen': tensor(0.0005), 'resolution': tensor(0.0005), 'os': tensor(0.0005), 'version': tensor(0.0005), 'demographic': tensor(0.0005), 'country': tensor(0.0005), 'well': tensor(0.0005), 'collected': tensor(0.0005), 'pixel': tensor(0.0005), 'tags': tensor(0.0005), 'technologies': tensor(0.0005), 'better': tensor(0.0005), 'tailored': tensor(0.0005), 'facilitate': tensor(0.0005), 'ongoing': tensor(0.0005), 'party service': tensor(0.0005), 'service providers': tensor(0.0005), 'providers may': tensor(0.0005), 'may collect': tensor(0.0005), 'collect nonpersonal': tensor(0.0005), 'information including': tensor(0.0005), 'including mac': tensor(0.0005), 'mac address': tensor(0.0005), 'address computer': tensor(0.0005), 'computer type': tensor(0.0005), 'type screen': tensor(0.0005), 'screen resolution': tensor(0.0005), 'resolution os': tensor(0.0005), 'os version': tensor(0.0005), 'version internet': tensor(0.0005), 'internet browser': tensor(0.0005), 'browser demographic': tensor(0.0005), 'demographic data': tensor(0.0005), 'data example': tensor(0.0005), 'example country': tensor(0.0005), 'country well': tensor(0.0005), 'well information': tensor(0.0005), 'information collected': tensor(0.0005), 'collected use': tensor(0.0005), 'use cookies': tensor(0.0005), 'cookies pixel': tensor(0.0005), 'pixel tags': tensor(0.0005), 'tags web': tensor(0.0005), 'beacons similar': tensor(0.0005), 'similar technologies': tensor(0.0005), 'technologies better': tensor(0.0005), 'better serve': tensor(0.0005), 'serve tailored': tensor(0.0005), 'tailored information': tensor(0.0005), 'information facilitate': tensor(0.0005), 'facilitate ongoing': tensor(0.0005), 'ongoing use': tensor(0.0005), 'use site': tensor(0.0005), 'site services': tensor(0.0005), 'enable': tensor(0.0005), 'visits': tensor(0.0005), 'banner': tensor(0.0005), 'bring': tensor(0.0005), 'users': tensor(0.0005), 'beacons enable': tensor(0.0005), 'enable us': tensor(0.0005), 'us recognize': tensor(0.0005), 'recognize browser': tensor(0.0005), 'browser cookie': tensor(0.0005), 'browser visits': tensor(0.0005), 'visits site': tensor(0.0005), 'site learn': tensor(0.0005), 'learn banner': tensor(0.0005), 'banner ads': tensor(0.0005), 'ads bring': tensor(0.0005), 'bring users': tensor(0.0005), 'users site': tensor(0.0005), 'sites': tensor(0.0004), 'advertise': tensor(0.0004), 'use thirdparty': tensor(0.0004), 'companies serve': tensor(0.0004), 'serve ads': tensor(0.0004), 'ads site': tensor(0.0004), 'site andor': tensor(0.0004), 'andor sites': tensor(0.0004), 'sites advertise': tensor(0.0004), 'able': tensor(0.0004), 'remove': tensor(0.0004), 'databases': tensor(0.0004), 'shared': tensor(0.0004), 'ie': tensor(0.0004), 'date': tensor(0.0004), 'implement': tensor(0.0004), 'note optout': tensor(0.0004), 'optout described': tensor(0.0004), 'described able': tensor(0.0004), 'able remove': tensor(0.0004), 'remove personal': tensor(0.0004), 'information databases': tensor(0.0004), 'databases affiliates': tensor(0.0004), 'affiliates already': tensor(0.0004), 'already shared': tensor(0.0004), 'shared personal': tensor(0.0004), 'information ie': tensor(0.0004), 'ie already': tensor(0.0004), 'already provided': tensor(0.0004), 'provided personal': tensor(0.0004), 'information date': tensor(0.0004), 'date implement': tensor(0.0004), 'implement optout': tensor(0.0004), 'optout request': tensor(0.0004), 'inform': tensor(0.0003), 'products': tensor(0.0003), 'programs': tensor(0.0003), 'promotions': tensor(0.0003), 'believe': tensor(0.0003), 'interest': tensor(0.0003), 'inform products': tensor(0.0003), 'products programs': tensor(0.0003), 'programs services': tensor(0.0003), 'services promotions': tensor(0.0003), 'promotions believe': tensor(0.0003), 'believe may': tensor(0.0003), 'may interest': tensor(0.0003), 'affiliate': tensor(0.0003), 'event': tensor(0.0003), 'reorganization': tensor(0.0003), 'merger': tensor(0.0003), 'sale': tensor(0.0003), 'joint': tensor(0.0003), 'venture': tensor(0.0003), 'assignment': tensor(0.0003), 'transfer': tensor(0.0003), 'disposition': tensor(0.0003), 'portion': tensor(0.0003), 'business': tensor(0.0003), 'assets': tensor(0.0003), 'stock': tensor(0.0003), 'bankruptcy': tensor(0.0003), 'proceedings': tensor(0.0003), 'affiliate third': tensor(0.0003), 'party event': tensor(0.0003), 'event reorganization': tensor(0.0003), 'reorganization merger': tensor(0.0003), 'merger sale': tensor(0.0003), 'sale joint': tensor(0.0003), 'joint venture': tensor(0.0003), 'venture assignment': tensor(0.0003), 'assignment transfer': tensor(0.0003), 'transfer disposition': tensor(0.0003), 'disposition portion': tensor(0.0003), 'portion business': tensor(0.0003), 'business assets': tensor(0.0003), 'assets stock': tensor(0.0003), 'stock including': tensor(0.0003), 'limitation connection': tensor(0.0003), 'connection bankruptcy': tensor(0.0003), 'bankruptcy similar': tensor(0.0003), 'similar proceedings': tensor(0.0003), 'personally': tensor(0.0002), 'identify': tensor(0.0002), 'information personally': tensor(0.0002), 'personally identify': tensor(0.0002), 'identify may': tensor(0.0002), 'use information': tensor(0.0002), 'addresses': tensor(0.0002), 'ip addresses': tensor(0.0002), 'advertisers': tensor(0.0002), 'party advertisers': tensor(0.0002), 'important': tensor(0.0001), 'receiving': tensor(0.0001), 'information may': tensor(0.0001), 'may important': tensor(0.0001), 'important may': tensor(0.0001), 'may optout': tensor(0.0001), 'optout receiving': tensor(0.0001), 'receiving communications': tensor(0.0001), 'determine': tensor(0.0001), 'revised': tensor(0.0001), 'referring': tensor(0.0001), 'legend': tensor(0.0001), 'top': tensor(0.0001), 'page': tensor(0.0001), 'determine policy': tensor(0.0001), 'policy last': tensor(0.0001), 'last revised': tensor(0.0001), 'revised referring': tensor(0.0001), 'referring last': tensor(0.0001), 'updated legend': tensor(0.0001), 'legend top': tensor(0.0001), 'top page': tensor(0.0001), 'unfortunately': tensor(0.0001), 'transmission': tensor(0.0001), 'storage': tensor(0.0001), 'system': tensor(0.0001), 'guaranteed': tensor(0.0001), '100': tensor(0.0001), 'unfortunately data': tensor(0.0001), 'data transmission': tensor(0.0001), 'transmission internet': tensor(0.0001), 'internet data': tensor(0.0001), 'data storage': tensor(0.0001), 'storage system': tensor(0.0001), 'system guaranteed': tensor(0.0001), 'guaranteed 100': tensor(0.0001), '100 secure': tensor(0.0001), 'visit': tensor(0.0001), 'wwwallaboutcookiesorg': tensor(0.0001), 'learn cookies': tensor(0.0001), 'cookies please': tensor(0.0001), 'please visit': tensor(0.0001), 'visit http': tensor(0.0001), 'http wwwallaboutcookiesorg': tensor(0.0001), 'security': tensor(7.3034e-05)}, {'services': tensor(0.0195), 'information': tensor(0.0148), 'privacy': tensor(0.0102), 'us': tensor(0.0096), 'affiliates': tensor(0.0090), 'may': tensor(0.0087), 'personal': tensor(0.0078), 'personal information': tensor(0.0078), 'including': tensor(0.0071), 'email': tensor(0.0069), 'permit': tensor(0.0069), 'use': tensor(0.0062), 'andor': tensor(0.0060), 'site': tensor(0.0056), 'please': tensor(0.0054), 'ignitionone': tensor(0.0052), 'provide': tensor(0.0051), 'applicable': tensor(0.0050), 'policy': tensor(0.0049), 'outside': tensor(0.0048), 'country': tensor(0.0048), 'residence': tensor(0.0048), 'public': tensor(0.0048), 'government': tensor(0.0048), 'authorities': tensor(0.0048), 'protect': tensor(0.0048), 'outside country': tensor(0.0048), 'country residence': tensor(0.0048), 'public government': tensor(0.0048), 'government authorities': tensor(0.0048), 'purposes': tensor(0.0048), 'eg': tensor(0.0047), 'provide services': tensor(0.0044), 'privacy policy': tensor(0.0040), 'regarding': tensor(0.0037), 'customer': tensor(0.0036), 'legal': tensor(0.0035), 'contact': tensor(0.0035), 'terms': tensor(0.0035), 'conditions': tensor(0.0035), 'terms conditions': tensor(0.0035), 'request': tensor(0.0035), 'believe': tensor(0.0034), 'marketingrelated': tensor(0.0033), 'emails': tensor(0.0033), 'marketingrelated emails': tensor(0.0033), 'limit': tensor(0.0033), 'use personal': tensor(0.0033), 'ignitiononecom': tensor(0.0032), 'privacy ignitiononecom': tensor(0.0032), 'party': tensor(0.0031), 'respond': tensor(0.0029), 'service': tensor(0.0029), 'processing': tensor(0.0029), 'third': tensor(0.0028), 'similar': tensor(0.0028), 'third party': tensor(0.0028), 'connection': tensor(0.0028), 'client': tensor(0.0027), 'login': tensor(0.0027), 'client login': tensor(0.0027), 'enable': tensor(0.0026), 'send': tensor(0.0026), 'data': tensor(0.0026), 'analysis': tensor(0.0026), 'website': tensor(0.0026), 'data analysis': tensor(0.0026), 'eg permit': tensor(0.0026), 'credit': tensor(0.0026), 'card': tensor(0.0026), 'credit card': tensor(0.0026), 'business': tensor(0.0025), 'review': tensor(0.0024), 'appropriate': tensor(0.0024), 'law': tensor(0.0024), 'laws': tensor(0.0024), 'b': tensor(0.0024), 'comply': tensor(0.0024), 'process': tensor(0.0024), 'c': tensor(0.0024), 'requests': tensor(0.0024), 'enforce': tensor(0.0024), 'e': tensor(0.0024), 'operations': tensor(0.0024), 'f': tensor(0.0024), 'rights': tensor(0.0024), 'safety': tensor(0.0024), 'property': tensor(0.0024), 'others': tensor(0.0024), 'g': tensor(0.0024), 'pursue': tensor(0.0024), 'available': tensor(0.0024), 'remedies': tensor(0.0024), 'damages': tensor(0.0024), 'sustain': tensor(0.0024), 'believe appropriate': tensor(0.0024), 'appropriate applicable': tensor(0.0024), 'applicable law': tensor(0.0024), 'law including': tensor(0.0024), 'including laws': tensor(0.0024), 'laws outside': tensor(0.0024), 'residence b': tensor(0.0024), 'b comply': tensor(0.0024), 'comply legal': tensor(0.0024), 'legal process': tensor(0.0024), 'process c': tensor(0.0024), 'c respond': tensor(0.0024), 'respond requests': tensor(0.0024), 'requests public': tensor(0.0024), 'authorities including': tensor(0.0024), 'including public': tensor(0.0024), 'authorities outside': tensor(0.0024), 'residence enforce': tensor(0.0024), 'enforce terms': tensor(0.0024), 'conditions e': tensor(0.0024), 'e protect': tensor(0.0024), 'protect operations': tensor(0.0024), 'operations affiliates': tensor(0.0024), 'affiliates f': tensor(0.0024), 'f protect': tensor(0.0024), 'protect rights': tensor(0.0024), 'rights privacy': tensor(0.0024), 'privacy safety': tensor(0.0024), 'safety property': tensor(0.0024), 'property andor': tensor(0.0024), 'andor affiliates': tensor(0.0024), 'affiliates others': tensor(0.0024), 'others g': tensor(0.0024), 'g permit': tensor(0.0024), 'permit us': tensor(0.0024), 'us pursue': tensor(0.0024), 'pursue available': tensor(0.0024), 'available remedies': tensor(0.0024), 'remedies limit': tensor(0.0024), 'limit damages': tensor(0.0024), 'damages may': tensor(0.0024), 'may sustain': tensor(0.0024), 'provided': tensor(0.0024), 'goingforward': tensor(0.0024), 'basis': tensor(0.0024), 'goingforward basis': tensor(0.0024), 'may use': tensor(0.0024), 'collect': tensor(0.0023), 'wish': tensor(0.0023), 'new': tensor(0.0023), 'fax': tensor(0.0022), 'address': tensor(0.0022), 'analytics': tensor(0.0022), 'ignitionone analytics': tensor(0.0022), 'share': tensor(0.0021), 'marketing': tensor(0.0021), 'receiving': tensor(0.0021), 'emails us': tensor(0.0021), 'share personal': tensor(0.0021), 'marketing purposes': tensor(0.0021), 'receiving marketingrelated': tensor(0.0021), 'products': tensor(0.0021), 'would': tensor(0.0021), 'sending': tensor(0.0021), 'containing': tensor(0.0021), 'sending email': tensor(0.0021), 'email containing': tensor(0.0021), 'containing request': tensor(0.0021), 'request privacy': tensor(0.0021), 'following': tensor(0.0021), 'contact us': tensor(0.0020), 'practices': tensor(0.0018), 'information collect': tensor(0.0018), 'information affiliates': tensor(0.0018), 'inc': tensor(0.0016), 'ignitionone inc': tensor(0.0016), 'purpose': tensor(0.0015), 'sign': tensor(0.0015), 'partner': tensor(0.0015), 'requested': tensor(0.0015), 'information purpose': tensor(0.0015), 'purpose provided': tensor(0.0015), 'provided eg': tensor(0.0015), 'eg provide': tensor(0.0015), 'services contact': tensor(0.0015), 'contact regarding': tensor(0.0015), 'regarding services': tensor(0.0015), 'services sign': tensor(0.0015), 'sign customer': tensor(0.0015), 'customer partner': tensor(0.0015), 'partner andor': tensor(0.0015), 'andor send': tensor(0.0015), 'send requested': tensor(0.0015), 'requested information': tensor(0.0015), 'providers': tensor(0.0014), 'hosting': tensor(0.0014), 'payment': tensor(0.0014), 'order': tensor(0.0014), 'fulfillment': tensor(0.0014), 'infrastructure': tensor(0.0014), 'provision': tensor(0.0014), 'delivery': tensor(0.0014), 'party service': tensor(0.0014), 'service providers': tensor(0.0014), 'providers provide': tensor(0.0014), 'services website': tensor(0.0014), 'website hosting': tensor(0.0014), 'hosting data': tensor(0.0014), 'analysis payment': tensor(0.0014), 'payment processing': tensor(0.0014), 'processing order': tensor(0.0014), 'order fulfillment': tensor(0.0014), 'fulfillment infrastructure': tensor(0.0014), 'infrastructure provision': tensor(0.0014), 'provision services': tensor(0.0014), 'services customer': tensor(0.0014), 'customer service': tensor(0.0014), 'service email': tensor(0.0014), 'email delivery': tensor(0.0014), 'delivery services': tensor(0.0014), 'services credit': tensor(0.0014), 'card processing': tensor(0.0014), 'processing similar': tensor(0.0014), 'similar services': tensor(0.0014), 'services enable': tensor(0.0014), 'enable provide': tensor(0.0014), 'affiliate': tensor(0.0014), 'event': tensor(0.0014), 'reorganization': tensor(0.0014), 'merger': tensor(0.0014), 'sale': tensor(0.0014), 'joint': tensor(0.0014), 'venture': tensor(0.0014), 'assignment': tensor(0.0014), 'transfer': tensor(0.0014), 'disposition': tensor(0.0014), 'portion': tensor(0.0014), 'assets': tensor(0.0014), 'stock': tensor(0.0014), 'without': tensor(0.0014), 'limitation': tensor(0.0014), 'bankruptcy': tensor(0.0014), 'proceedings': tensor(0.0014), 'affiliate third': tensor(0.0014), 'party event': tensor(0.0014), 'event reorganization': tensor(0.0014), 'reorganization merger': tensor(0.0014), 'merger sale': tensor(0.0014), 'sale joint': tensor(0.0014), 'joint venture': tensor(0.0014), 'venture assignment': tensor(0.0014), 'assignment transfer': tensor(0.0014), 'transfer disposition': tensor(0.0014), 'disposition portion': tensor(0.0014), 'portion business': tensor(0.0014), 'business assets': tensor(0.0014), 'assets stock': tensor(0.0014), 'stock including': tensor(0.0014), 'including without': tensor(0.0014), 'without limitation': tensor(0.0014), 'limitation connection': tensor(0.0014), 'connection bankruptcy': tensor(0.0014), 'bankruptcy similar': tensor(0.0014), 'similar proceedings': tensor(0.0014), 'disclose': tensor(0.0014), 'disclose personal': tensor(0.0014), 'access': tensor(0.0014), 'offered': tensor(0.0014), 'therein': tensor(0.0014), 'company': tensor(0.0014), 'bill': tensor(0.0014), 'permit request': tensor(0.0014), 'request access': tensor(0.0014), 'access client': tensor(0.0014), 'login site': tensor(0.0014), 'site use': tensor(0.0014), 'use client': tensor(0.0014), 'login services': tensor(0.0014), 'services offered': tensor(0.0014), 'offered therein': tensor(0.0014), 'therein eg': tensor(0.0014), 'permit review': tensor(0.0014), 'review company': tensor(0.0014), 'company bill': tensor(0.0014), 'bill applicable': tensor(0.0014), 'approve': tensor(0.0012), 'participation': tensor(0.0012), 'subscribe': tensor(0.0012), 'blogs': tensor(0.0012), 'rss': tensor(0.0012), 'feeds': tensor(0.0012), 'approve enable': tensor(0.0012), 'enable participation': tensor(0.0012), 'participation site': tensor(0.0012), 'site site': tensor(0.0012), 'site services': tensor(0.0012), 'services eg': tensor(0.0012), 'permit subscribe': tensor(0.0012), 'subscribe blogs': tensor(0.0012), 'blogs rss': tensor(0.0012), 'rss feeds': tensor(0.0012), 'feeds applicable': tensor(0.0012), 'longer': tensor(0.0012), 'receive': tensor(0.0012), 'prefer': tensor(0.0012), 'optout': tensor(0.0012), 'sharing': tensor(0.0012), 'longer wish': tensor(0.0012), 'wish receive': tensor(0.0012), 'receive marketingrelated': tensor(0.0012), 'us goingforward': tensor(0.0012), 'basis would': tensor(0.0012), 'would prefer': tensor(0.0012), 'prefer share': tensor(0.0012), 'information goingforward': tensor(0.0012), 'basis affiliates': tensor(0.0012), 'affiliates affiliates': tensor(0.0012), 'affiliates marketing': tensor(0.0012), 'purposes may': tensor(0.0012), 'may optout': tensor(0.0012), 'optout receiving': tensor(0.0012), 'emails sharing': tensor(0.0012), 'sharing sending': tensor(0.0012), 'internal': tensor(0.0012), 'audits': tensor(0.0012), 'developing': tensor(0.0012), 'enhancing': tensor(0.0012), 'improving': tensor(0.0012), 'identifying': tensor(0.0012), 'usage': tensor(0.0012), 'trends': tensor(0.0012), 'determining': tensor(0.0012), 'effectiveness': tensor(0.0012), 'promotional': tensor(0.0012), 'campaigns': tensor(0.0012), 'internal business': tensor(0.0012), 'business purposes': tensor(0.0012), 'purposes data': tensor(0.0012), 'analysis audits': tensor(0.0012), 'audits developing': tensor(0.0012), 'developing new': tensor(0.0012), 'new products': tensor(0.0012), 'products enhancing': tensor(0.0012), 'enhancing website': tensor(0.0012), 'website improving': tensor(0.0012), 'improving services': tensor(0.0012), 'services identifying': tensor(0.0012), 'identifying usage': tensor(0.0012), 'usage trends': tensor(0.0012), 'trends determining': tensor(0.0012), 'determining effectiveness': tensor(0.0012), 'effectiveness promotional': tensor(0.0012), 'promotional campaigns': tensor(0.0012), 'questions': tensor(0.0011), 'write': tensor(0.0011), 'number': tensor(0.0011), 'department': tensor(0.0011), '32': tensor(0.0011), 'avenue': tensor(0.0011), 'americas': tensor(0.0011), '5th': tensor(0.0011), 'floor': tensor(0.0011), 'york': tensor(0.0011), 'ny': tensor(0.0011), '10013': tensor(0.0011), '2127037276': tensor(0.0011), 'note': tensor(0.0011), 'communications': tensor(0.0011), 'necessarily': tensor(0.0011), 'secure': tensor(0.0011), 'accordingly': tensor(0.0011), 'include': tensor(0.0011), 'correspondence': tensor(0.0011), 'questions regarding': tensor(0.0011), 'regarding privacy': tensor(0.0011), 'policy please': tensor(0.0011), 'please contact': tensor(0.0011), 'us email': tensor(0.0011), 'email privacy': tensor(0.0011), 'ignitiononecom please': tensor(0.0011), 'please write': tensor(0.0011), 'write following': tensor(0.0011), 'following address': tensor(0.0011), 'address fax': tensor(0.0011), 'fax number': tensor(0.0011), 'number legal': tensor(0.0011), 'legal department': tensor(0.0011), 'department ignitionone': tensor(0.0011), 'inc 32': tensor(0.0011), '32 avenue': tensor(0.0011), 'avenue americas': tensor(0.0011), 'americas 5th': tensor(0.0011), '5th floor': tensor(0.0011), 'floor new': tensor(0.0011), 'new york': tensor(0.0011), 'york ny': tensor(0.0011), 'ny 10013': tensor(0.0011), '10013 fax': tensor(0.0011), 'fax 2127037276': tensor(0.0011), '2127037276 please': tensor(0.0011), 'please note': tensor(0.0011), 'note email': tensor(0.0011), 'email communications': tensor(0.0011), 'communications necessarily': tensor(0.0011), 'necessarily secure': tensor(0.0011), 'secure accordingly': tensor(0.0011), 'accordingly include': tensor(0.0011), 'include credit': tensor(0.0011), 'card information': tensor(0.0011), 'information email': tensor(0.0011), 'email correspondence': tensor(0.0011), 'correspondence us': tensor(0.0011), 'important': tensor(0.0011), 'changes': tensor(0.0011), 'policies': tensor(0.0011), 'administrative': tensor(0.0011), 'send important': tensor(0.0011), 'important information': tensor(0.0011), 'information regarding': tensor(0.0011), 'regarding site': tensor(0.0011), 'site changes': tensor(0.0011), 'changes terms': tensor(0.0011), 'conditions policies': tensor(0.0011), 'policies andor': tensor(0.0011), 'andor administrative': tensor(0.0011), 'administrative information': tensor(0.0011), 'collection': tensor(0.0011), 'disclosure': tensor(0.0011), 'web': tensor(0.0011), 'customization': tensor(0.0011), 'understand': tensor(0.0011), 'respect': tensor(0.0011), 'via': tensor(0.0011), 'policy address': tensor(0.0011), 'address collection': tensor(0.0011), 'collection use': tensor(0.0011), 'use disclosure': tensor(0.0011), 'disclosure information': tensor(0.0011), 'information ignitionone': tensor(0.0011), 'analytics web': tensor(0.0011), 'web customization': tensor(0.0011), 'customization services': tensor(0.0011), 'services wish': tensor(0.0011), 'wish understand': tensor(0.0011), 'understand practices': tensor(0.0011), 'practices respect': tensor(0.0011), 'respect information': tensor(0.0011), 'collect via': tensor(0.0011), 'via ignitionone': tensor(0.0011), 'analytics services': tensor(0.0011), 'services please': tensor(0.0011), 'please review': tensor(0.0011), 'review ignitionone': tensor(0.0011), 'ignitionone services': tensor(0.0011), 'services privacy': tensor(0.0011), 'inform': tensor(0.0010), 'programs': tensor(0.0010), 'promotions': tensor(0.0010), 'interest': tensor(0.0010), 'inform products': tensor(0.0010), 'products programs': tensor(0.0010), 'programs services': tensor(0.0010), 'services promotions': tensor(0.0010), 'promotions believe': tensor(0.0010), 'believe may': tensor(0.0010), 'may interest': tensor(0.0010), 'specify': tensor(0.0009), 'clearly': tensor(0.0009), 'choices': tensor(0.0009), 'opting': tensor(0.0009), 'allowing': tensor(0.0009), 'parent': tensor(0.0009), 'subsidiaries': tensor(0.0009), 'please specify': tensor(0.0009), 'specify clearly': tensor(0.0009), 'clearly following': tensor(0.0009), 'following choices': tensor(0.0009), 'choices opting': tensor(0.0009), 'opting receiving': tensor(0.0009), 'us andor': tensor(0.0009), 'andor allowing': tensor(0.0009), 'allowing us': tensor(0.0009), 'us share': tensor(0.0009), 'affiliates including': tensor(0.0009), 'including parent': tensor(0.0009), 'parent subsidiaries': tensor(0.0009), 'subsidiaries marketing': tensor(0.0009), 'like': tensor(0.0009), 'change': tensor(0.0009), 'suppress': tensor(0.0009), 'otherwise': tensor(0.0009), 'previously': tensor(0.0009), 'would like': tensor(0.0009), 'like change': tensor(0.0009), 'change suppress': tensor(0.0009), 'suppress otherwise': tensor(0.0009), 'otherwise limit': tensor(0.0009), 'limit use': tensor(0.0009), 'information previously': tensor(0.0009), 'previously provided': tensor(0.0009), 'provided us': tensor(0.0009), 'us may': tensor(0.0009), 'may contact': tensor(0.0009), 'us sending': tensor(0.0009), 'described': tensor(0.0009), 'may disclose': tensor(0.0009), 'affiliates may': tensor(0.0009), 'information purposes': tensor(0.0009), 'purposes described': tensor(0.0009), 'described policy': tensor(0.0009), 'describes': tensor(0.0007), 'http': tensor(0.0007), 'wwwignitiononecom': tensor(0.0007), 'offline': tensor(0.0007), 'policy describes': tensor(0.0007), 'describes practices': tensor(0.0007), 'practices connection': tensor(0.0007), 'connection personal': tensor(0.0007), 'collect http': tensor(0.0007), 'http wwwignitiononecom': tensor(0.0007), 'wwwignitiononecom site': tensor(0.0007), 'site offline': tensor(0.0007), 'offline connection': tensor(0.0007), 'connection services': tensor(0.0007), 'services provide': tensor(0.0007), 'billing': tensor(0.0007), 'care': tensor(0.0007), 'fulfill': tensor(0.0007), 'purchase': tensor(0.0007), 'billing customer': tensor(0.0007), 'customer care': tensor(0.0007), 'care purposes': tensor(0.0007), 'purposes eg': tensor(0.0007), 'eg fulfill': tensor(0.0007), 'fulfill purchase': tensor(0.0007), 'purchase services': tensor(0.0007), 'participate': tensor(0.0006), 'webinar': tensor(0.0006), 'permit participate': tensor(0.0006), 'participate webinar': tensor(0.0006), 'last': tensor(0.0005), 'updated': tensor(0.0005), 'july': tensor(0.0005), '14': tensor(0.0005), '2011': tensor(0.0005), 'concerned': tensor(0.0005), 'issues': tensor(0.0005), 'want': tensor(0.0005), 'familiar': tensor(0.0005), 'defined': tensor(0.0005), 'last updated': tensor(0.0005), 'updated july': tensor(0.0005), 'july 14': tensor(0.0005), '14 2011': tensor(0.0005), '2011 ignitionone': tensor(0.0005), 'inc concerned': tensor(0.0005), 'concerned privacy': tensor(0.0005), 'privacy issues': tensor(0.0005), 'issues want': tensor(0.0005), 'want familiar': tensor(0.0005), 'familiar collect': tensor(0.0005), 'collect use': tensor(0.0005), 'use disclose': tensor(0.0005), 'information defined': tensor(0.0005), 'problems': tensor(0.0005), 'comments': tensor(0.0005), 'respond problems': tensor(0.0005), 'problems comments': tensor(0.0005), 'responsible': tensor(0.0003), 'management': tensor(0.0003), 'jointlyused': tensor(0.0003), 'ignitionone party': tensor(0.0003), 'party responsible': tensor(0.0003), 'responsible management': tensor(0.0003), 'management jointlyused': tensor(0.0003), 'jointlyused personal': tensor(0.0003)}, {'information': tensor(0.0302), 'site': tensor(0.0190), 'use': tensor(0.0157), 'collect': tensor(0.0145), 'services': tensor(0.0141), 'privacy': tensor(0.0120), 'policy': tensor(0.0120), 'privacy policy': tensor(0.0120), 'ignitionone': tensor(0.0107), 'address': tensor(0.0097), 'data': tensor(0.0094), 'practices': tensor(0.0084), 'information collect': tensor(0.0084), 'behavioral': tensor(0.0072), 'advertising': tensor(0.0072), 'optimization': tensor(0.0072), 'analytics': tensor(0.0072), 'ignitionone behavioral': tensor(0.0072), 'behavioral advertising': tensor(0.0072), 'advertising optimization': tensor(0.0072), 'optimization analytics': tensor(0.0072), 'analytics services': tensor(0.0072), 'third': tensor(0.0061), 'party': tensor(0.0061), 'service': tensor(0.0061), 'providers': tensor(0.0061), 'may': tensor(0.0061), 'nonpersonal': tensor(0.0061), 'including': tensor(0.0061), 'mac': tensor(0.0061), 'computer': tensor(0.0061), 'type': tensor(0.0061), 'screen': tensor(0.0061), 'resolution': tensor(0.0061), 'os': tensor(0.0061), 'version': tensor(0.0061), 'internet': tensor(0.0061), 'browser': tensor(0.0061), 'demographic': tensor(0.0061), 'example': tensor(0.0061), 'country': tensor(0.0061), 'well': tensor(0.0061), 'collected': tensor(0.0061), 'cookies': tensor(0.0061), 'pixel': tensor(0.0061), 'tags': tensor(0.0061), 'web': tensor(0.0061), 'beacons': tensor(0.0061), 'similar': tensor(0.0061), 'technologies': tensor(0.0061), 'better': tensor(0.0061), 'serve': tensor(0.0061), 'tailored': tensor(0.0061), 'facilitate': tensor(0.0061), 'ongoing': tensor(0.0061), 'third party': tensor(0.0061), 'party service': tensor(0.0061), 'service providers': tensor(0.0061), 'providers may': tensor(0.0061), 'may collect': tensor(0.0061), 'collect nonpersonal': tensor(0.0061), 'nonpersonal information': tensor(0.0061), 'information including': tensor(0.0061), 'including mac': tensor(0.0061), 'mac address': tensor(0.0061), 'address computer': tensor(0.0061), 'computer type': tensor(0.0061), 'type screen': tensor(0.0061), 'screen resolution': tensor(0.0061), 'resolution os': tensor(0.0061), 'os version': tensor(0.0061), 'version internet': tensor(0.0061), 'internet browser': tensor(0.0061), 'browser demographic': tensor(0.0061), 'demographic data': tensor(0.0061), 'data example': tensor(0.0061), 'example country': tensor(0.0061), 'country well': tensor(0.0061), 'well information': tensor(0.0061), 'information collected': tensor(0.0061), 'collected use': tensor(0.0061), 'use cookies': tensor(0.0061), 'cookies pixel': tensor(0.0061), 'pixel tags': tensor(0.0061), 'tags web': tensor(0.0061), 'web beacons': tensor(0.0061), 'beacons similar': tensor(0.0061), 'similar technologies': tensor(0.0061), 'technologies better': tensor(0.0061), 'better serve': tensor(0.0061), 'serve tailored': tensor(0.0061), 'tailored information': tensor(0.0061), 'information facilitate': tensor(0.0061), 'facilitate ongoing': tensor(0.0061), 'ongoing use': tensor(0.0061), 'use site': tensor(0.0061), 'describes': tensor(0.0048), 'connection': tensor(0.0048), 'personal': tensor(0.0048), 'http': tensor(0.0048), 'wwwignitiononecom': tensor(0.0048), 'directed': tensor(0.0048), 'primarily': tensor(0.0048), 'businesses': tensor(0.0048), 'policy describes': tensor(0.0048), 'describes practices': tensor(0.0048), 'practices connection': tensor(0.0048), 'connection personal': tensor(0.0048), 'personal information': tensor(0.0048), 'collect http': tensor(0.0048), 'http wwwignitiononecom': tensor(0.0048), 'wwwignitiononecom site': tensor(0.0048), 'site site': tensor(0.0048), 'site directed': tensor(0.0048), 'directed primarily': tensor(0.0048), 'primarily businesses': tensor(0.0048), 'collection': tensor(0.0036), 'disclosure': tensor(0.0036), 'wish': tensor(0.0036), 'understand': tensor(0.0036), 'respect': tensor(0.0036), 'via': tensor(0.0036), 'please': tensor(0.0036), 'review': tensor(0.0036), 'policy address': tensor(0.0036), 'address collection': tensor(0.0036), 'collection use': tensor(0.0036), 'use disclosure': tensor(0.0036), 'disclosure information': tensor(0.0036), 'information ignitionone': tensor(0.0036), 'services wish': tensor(0.0036), 'wish understand': tensor(0.0036), 'understand practices': tensor(0.0036), 'practices respect': tensor(0.0036), 'respect information': tensor(0.0036), 'collect via': tensor(0.0036), 'via ignitionone': tensor(0.0036), 'services please': tensor(0.0036), 'please review': tensor(0.0036), 'review ignitionone': tensor(0.0036), 'ignitionone services': tensor(0.0036), 'services privacy': tensor(0.0036), 'internal': tensor(0.0033), 'business': tensor(0.0033), 'purposes': tensor(0.0033), 'analysis': tensor(0.0033), 'audits': tensor(0.0033), 'developing': tensor(0.0033), 'new': tensor(0.0033), 'products': tensor(0.0033), 'enhancing': tensor(0.0033), 'improving': tensor(0.0033), 'identifying': tensor(0.0033), 'usage': tensor(0.0033), 'trends': tensor(0.0033), 'determining': tensor(0.0033), 'effectiveness': tensor(0.0033), 'promotional': tensor(0.0033), 'campaigns': tensor(0.0033), 'internal business': tensor(0.0033), 'business purposes': tensor(0.0033), 'purposes data': tensor(0.0033), 'data analysis': tensor(0.0033), 'analysis audits': tensor(0.0033), 'audits developing': tensor(0.0033), 'developing new': tensor(0.0033), 'new products': tensor(0.0033), 'products enhancing': tensor(0.0033), 'enhancing site': tensor(0.0033), 'site improving': tensor(0.0033), 'improving services': tensor(0.0033), 'services identifying': tensor(0.0033), 'identifying usage': tensor(0.0033), 'usage trends': tensor(0.0033), 'trends determining': tensor(0.0033), 'determining effectiveness': tensor(0.0033), 'effectiveness promotional': tensor(0.0033), 'promotional campaigns': tensor(0.0033)}, {'information': tensor(0.0275), 'privacy': tensor(0.0137), 'use': tensor(0.0123), 'please': tensor(0.0122), 'email': tensor(0.0122), 'address': tensor(0.0097), 'ignitionone': tensor(0.0085), 'us': tensor(0.0081), 'fax': tensor(0.0081), 'services': tensor(0.0079), 'collected': tensor(0.0066), 'information collected': tensor(0.0066), 'inc': tensor(0.0063), 'ignitionone inc': tensor(0.0063), 'third': tensor(0.0057), 'party': tensor(0.0057), 'service': tensor(0.0057), 'providers': tensor(0.0057), 'may': tensor(0.0057), 'collect': tensor(0.0057), 'nonpersonal': tensor(0.0057), 'including': tensor(0.0057), 'mac': tensor(0.0057), 'computer': tensor(0.0057), 'type': tensor(0.0057), 'screen': tensor(0.0057), 'resolution': tensor(0.0057), 'os': tensor(0.0057), 'version': tensor(0.0057), 'internet': tensor(0.0057), 'browser': tensor(0.0057), 'demographic': tensor(0.0057), 'data': tensor(0.0057), 'example': tensor(0.0057), 'country': tensor(0.0057), 'well': tensor(0.0057), 'cookies': tensor(0.0057), 'pixel': tensor(0.0057), 'tags': tensor(0.0057), 'web': tensor(0.0057), 'beacons': tensor(0.0057), 'similar': tensor(0.0057), 'technologies': tensor(0.0057), 'better': tensor(0.0057), 'serve': tensor(0.0057), 'tailored': tensor(0.0057), 'facilitate': tensor(0.0057), 'ongoing': tensor(0.0057), 'site': tensor(0.0057), 'third party': tensor(0.0057), 'party service': tensor(0.0057), 'service providers': tensor(0.0057), 'providers may': tensor(0.0057), 'may collect': tensor(0.0057), 'collect nonpersonal': tensor(0.0057), 'nonpersonal information': tensor(0.0057), 'information including': tensor(0.0057), 'including mac': tensor(0.0057), 'mac address': tensor(0.0057), 'address computer': tensor(0.0057), 'computer type': tensor(0.0057), 'type screen': tensor(0.0057), 'screen resolution': tensor(0.0057), 'resolution os': tensor(0.0057), 'os version': tensor(0.0057), 'version internet': tensor(0.0057), 'internet browser': tensor(0.0057), 'browser demographic': tensor(0.0057), 'demographic data': tensor(0.0057), 'data example': tensor(0.0057), 'example country': tensor(0.0057), 'country well': tensor(0.0057), 'well information': tensor(0.0057), 'collected use': tensor(0.0057), 'use cookies': tensor(0.0057), 'cookies pixel': tensor(0.0057), 'pixel tags': tensor(0.0057), 'tags web': tensor(0.0057), 'web beacons': tensor(0.0057), 'beacons similar': tensor(0.0057), 'similar technologies': tensor(0.0057), 'technologies better': tensor(0.0057), 'better serve': tensor(0.0057), 'serve tailored': tensor(0.0057), 'tailored information': tensor(0.0057), 'information facilitate': tensor(0.0057), 'facilitate ongoing': tensor(0.0057), 'ongoing use': tensor(0.0057), 'use site': tensor(0.0057), 'site services': tensor(0.0057), 'marketing': tensor(0.0044), 'questions': tensor(0.0041), 'regarding': tensor(0.0041), 'policy': tensor(0.0041), 'contact': tensor(0.0041), 'ignitiononecom': tensor(0.0041), 'write': tensor(0.0041), 'following': tensor(0.0041), 'number': tensor(0.0041), 'legal': tensor(0.0041), 'department': tensor(0.0041), '32': tensor(0.0041), 'avenue': tensor(0.0041), 'americas': tensor(0.0041), '5th': tensor(0.0041), 'floor': tensor(0.0041), 'new': tensor(0.0041), 'york': tensor(0.0041), 'ny': tensor(0.0041), '10013': tensor(0.0041), '2127037276': tensor(0.0041), 'note': tensor(0.0041), 'communications': tensor(0.0041), 'necessarily': tensor(0.0041), 'secure': tensor(0.0041), 'accordingly': tensor(0.0041), 'include': tensor(0.0041), 'credit': tensor(0.0041), 'card': tensor(0.0041), 'correspondence': tensor(0.0041), 'questions regarding': tensor(0.0041), 'regarding privacy': tensor(0.0041), 'privacy policy': tensor(0.0041), 'policy please': tensor(0.0041), 'please contact': tensor(0.0041), 'contact us': tensor(0.0041), 'us email': tensor(0.0041), 'email privacy': tensor(0.0041), 'privacy ignitiononecom': tensor(0.0041), 'ignitiononecom please': tensor(0.0041), 'please write': tensor(0.0041), 'write following': tensor(0.0041), 'following address': tensor(0.0041), 'address fax': tensor(0.0041), 'fax number': tensor(0.0041), 'number privacy': tensor(0.0041), 'privacy legal': tensor(0.0041), 'legal department': tensor(0.0041), 'department ignitionone': tensor(0.0041), 'inc 32': tensor(0.0041), '32 avenue': tensor(0.0041), 'avenue americas': tensor(0.0041), 'americas 5th': tensor(0.0041), '5th floor': tensor(0.0041), 'floor new': tensor(0.0041), 'new york': tensor(0.0041), 'york ny': tensor(0.0041), 'ny 10013': tensor(0.0041), '10013 fax': tensor(0.0041), 'fax 2127037276': tensor(0.0041), '2127037276 please': tensor(0.0041), 'please note': tensor(0.0041), 'note email': tensor(0.0041), 'email communications': tensor(0.0041), 'communications necessarily': tensor(0.0041), 'necessarily secure': tensor(0.0041), 'secure accordingly': tensor(0.0041), 'accordingly include': tensor(0.0041), 'include credit': tensor(0.0041), 'credit card': tensor(0.0041), 'card information': tensor(0.0041), 'information email': tensor(0.0041), 'email correspondence': tensor(0.0041), 'correspondence us': tensor(0.0041), 'information information': tensor(0.0030), 'personal': tensor(0.0026), 'personal information': tensor(0.0026), 'last': tensor(0.0022), 'updated': tensor(0.0022), 'july': tensor(0.0022), '3': tensor(0.0022), '2012': tensor(0.0022), 'offers': tensor(0.0022), 'suite': tensor(0.0022), 'digital': tensor(0.0022), 'designed': tensor(0.0022), 'help': tensor(0.0022), 'online': tensor(0.0022), 'advertisers': tensor(0.0022), 'generate': tensor(0.0022), 'higher': tensor(0.0022), 'return': tensor(0.0022), 'media': tensor(0.0022), 'buying': tensor(0.0022), 'investment': tensor(0.0022), 'last updated': tensor(0.0022), 'updated july': tensor(0.0022), 'july 3': tensor(0.0022), '3 2012': tensor(0.0022), '2012 ignitionone': tensor(0.0022), 'inc ignitionone': tensor(0.0022), 'ignitionone offers': tensor(0.0022), 'offers suite': tensor(0.0022), 'suite digital': tensor(0.0022), 'digital marketing': tensor(0.0022), 'marketing services': tensor(0.0022), 'services designed': tensor(0.0022), 'designed help': tensor(0.0022), 'help online': tensor(0.0022), 'online advertisers': tensor(0.0022), 'advertisers generate': tensor(0.0022), 'generate higher': tensor(0.0022), 'higher return': tensor(0.0022), 'return marketing': tensor(0.0022), 'marketing media': tensor(0.0022), 'media buying': tensor(0.0022), 'buying investment': tensor(0.0022), 'safe': tensor(0.0015), 'harbor': tensor(0.0015), 'principles': tensor(0.0015), 'safe harbor': tensor(0.0015), 'harbor privacy': tensor(0.0015), 'privacy principles': tensor(0.0015), 'identifies': tensor(0.0015), 'individual': tensor(0.0015), 'information identifies': tensor(0.0015), 'identifies individual': tensor(0.0015), 'accessing': tensor(0.0011), 'changing': tensor(0.0011), 'suppressing': tensor(0.0011), 'accessing changing': tensor(0.0011), 'changing suppressing': tensor(0.0011), 'suppressing personal': tensor(0.0011), 'optout': tensor(0.0010), 'use information': tensor(0.0010), 'security': tensor(0.0007), 'integrity': tensor(0.0007), 'security integrity': tensor(0.0007)}])"
            ]
          },
          "execution_count": 20,
          "metadata": {},
          "output_type": "execute_result"
        }
      ],
      "source": [
        "keywords.values()"
      ]
    },
    {
      "cell_type": "code",
      "execution_count": null,
      "id": "97e317b2",
      "metadata": {
        "id": "97e317b2"
      },
      "outputs": [],
      "source": [
        "def combine_keywords(keywords):\n",
        "    total_keywords = {}\n",
        "    \n",
        "    # normalize keyword values\n",
        "    normalization_term = len(keywords)\n",
        "    \n",
        "    for idx in keywords:\n",
        "        current_keywords = keywords[idx]\n",
        "        \n",
        "        for keyword, value in current_keywords.items():\n",
        "            \n",
        "            # sum up all keywords in the different versions\n",
        "            total_keywords[keyword] = total_keywords.get(keyword, 0) + (value / normalization_term)\n",
        "    \n",
        "    # sorted the keywords\n",
        "    sorted_keywords = {k: v for k, v in sorted(total_keywords.items(), key=lambda item: item[1], \n",
        "                                            reverse=True)}\n",
        "    \n",
        "    return sorted_keywords"
      ]
    },
    {
      "cell_type": "code",
      "execution_count": null,
      "id": "1f820b35",
      "metadata": {
        "id": "1f820b35"
      },
      "outputs": [],
      "source": [
        "total_keywords = combine_keywords(keywords)"
      ]
    },
    {
      "cell_type": "code",
      "execution_count": null,
      "id": "c5f40a5b",
      "metadata": {
        "id": "c5f40a5b"
      },
      "outputs": [],
      "source": [
        "kw_frame = pd.DataFrame({'keyword' : total_keywords.keys(), 'score': total_keywords.values()})"
      ]
    },
    {
      "cell_type": "code",
      "execution_count": null,
      "id": "70244252",
      "metadata": {
        "id": "70244252",
        "outputId": "7fc24699-a9d6-4d7e-d887-fe475c47abbf"
      },
      "outputs": [
        {
          "data": {
            "text/html": [
              "<div>\n",
              "<style scoped>\n",
              "    .dataframe tbody tr th:only-of-type {\n",
              "        vertical-align: middle;\n",
              "    }\n",
              "\n",
              "    .dataframe tbody tr th {\n",
              "        vertical-align: top;\n",
              "    }\n",
              "\n",
              "    .dataframe thead th {\n",
              "        text-align: right;\n",
              "    }\n",
              "</style>\n",
              "<table border=\"1\" class=\"dataframe\">\n",
              "  <thead>\n",
              "    <tr style=\"text-align: right;\">\n",
              "      <th></th>\n",
              "      <th>keywords</th>\n",
              "      <th>changed</th>\n",
              "    </tr>\n",
              "  </thead>\n",
              "  <tbody>\n",
              "    <tr>\n",
              "      <th>0</th>\n",
              "      <td>{'information': tensor(0.0302), 'personal': te...</td>\n",
              "      <td>[0, 1, 2, 3, 4, 5, 6, 7, 8, 9, 10, 11, 12, 13,...</td>\n",
              "    </tr>\n",
              "    <tr>\n",
              "      <th>1</th>\n",
              "      <td>{'services': tensor(0.0195), 'information': te...</td>\n",
              "      <td>[0, 1, 2, 28, 29, 30, 31, 32, 33, 34, 35, 37, ...</td>\n",
              "    </tr>\n",
              "    <tr>\n",
              "      <th>2</th>\n",
              "      <td>{'information': tensor(0.0302), 'site': tensor...</td>\n",
              "      <td>[0, 1, 2, 15, 37]</td>\n",
              "    </tr>\n",
              "    <tr>\n",
              "      <th>3</th>\n",
              "      <td>{'information': tensor(0.0275), 'privacy': ten...</td>\n",
              "      <td>[0, 13, 17, 28, 69, 74, 81, 91, 98]</td>\n",
              "    </tr>\n",
              "  </tbody>\n",
              "</table>\n",
              "</div>"
            ],
            "text/plain": [
              "                                            keywords  \\\n",
              "0  {'information': tensor(0.0302), 'personal': te...   \n",
              "1  {'services': tensor(0.0195), 'information': te...   \n",
              "2  {'information': tensor(0.0302), 'site': tensor...   \n",
              "3  {'information': tensor(0.0275), 'privacy': ten...   \n",
              "\n",
              "                                             changed  \n",
              "0  [0, 1, 2, 3, 4, 5, 6, 7, 8, 9, 10, 11, 12, 13,...  \n",
              "1  [0, 1, 2, 28, 29, 30, 31, 32, 33, 34, 35, 37, ...  \n",
              "2                                  [0, 1, 2, 15, 37]  \n",
              "3                [0, 13, 17, 28, 69, 74, 81, 91, 98]  "
            ]
          },
          "execution_count": 22,
          "metadata": {},
          "output_type": "execute_result"
        }
      ],
      "source": [
        "k = pd.DataFrame({'keywords': keywords.values(), 'changed': changed_sentences.values()})\n",
        "k"
      ]
    },
    {
      "cell_type": "markdown",
      "id": "f23281aa",
      "metadata": {
        "id": "f23281aa"
      },
      "source": [
        "# Save Keywords to csv file"
      ]
    },
    {
      "cell_type": "code",
      "execution_count": null,
      "id": "e7ee6e58",
      "metadata": {
        "id": "e7ee6e58"
      },
      "outputs": [],
      "source": [
        "kw_frame.to_csv(f\"keywords_{site_id}.csv\", index=False)"
      ]
    },
    {
      "cell_type": "code",
      "execution_count": null,
      "id": "a7296f65",
      "metadata": {
        "id": "a7296f65"
      },
      "outputs": [],
      "source": [
        "pd.read_csv(f\"keywords_{site_id}.csv\").head(10)"
      ]
    },
    {
      "cell_type": "code",
      "execution_count": null,
      "id": "41c71b4b",
      "metadata": {
        "id": "41c71b4b"
      },
      "outputs": [],
      "source": [
        "df = pd.read_csv(f\"keywords_31160.csv\")"
      ]
    },
    {
      "cell_type": "markdown",
      "id": "3831ad68",
      "metadata": {
        "id": "3831ad68"
      },
      "source": [
        "# create collection"
      ]
    },
    {
      "cell_type": "code",
      "execution_count": null,
      "id": "df6260e2",
      "metadata": {
        "id": "df6260e2",
        "outputId": "c7711b37-99ba-4a9a-9910-1988eb3bae9d"
      },
      "outputs": [
        {
          "name": "stderr",
          "output_type": "stream",
          "text": [
            "  0%|          | 0/20 [00:00<?, ?it/s]\n",
            "0it [00:00, ?it/s]\u001b[A\n",
            "  5%|▌         | 1/20 [00:00<00:04,  4.62it/s]\n",
            "  0%|          | 0/3 [00:00<?, ?it/s]\u001b[A\n",
            " 33%|███▎      | 1/3 [00:03<00:07,  3.52s/it]\u001b[A\n",
            " 67%|██████▋   | 2/3 [00:07<00:03,  3.63s/it]\u001b[A\n",
            "100%|██████████| 3/3 [00:11<00:00,  3.78s/it]\u001b[A\n",
            " 10%|█         | 2/20 [00:11<02:03,  6.88s/it]\n",
            "  0%|          | 0/2 [00:00<?, ?it/s]\u001b[A\n",
            " 50%|█████     | 1/2 [00:04<00:04,  4.80s/it]\u001b[A\n",
            "100%|██████████| 2/2 [00:09<00:00,  4.62s/it]\u001b[A\n",
            " 15%|█▌        | 3/20 [00:21<02:19,  8.21s/it]\n",
            "  0%|          | 0/4 [00:00<?, ?it/s]\u001b[A\n",
            " 25%|██▌       | 1/4 [00:07<00:22,  7.35s/it]\u001b[A\n",
            " 50%|█████     | 2/4 [00:14<00:14,  7.05s/it]\u001b[A\n",
            " 75%|███████▌  | 3/4 [00:20<00:06,  6.71s/it]\u001b[A\n",
            "100%|██████████| 4/4 [00:26<00:00,  6.68s/it]\u001b[A\n",
            " 20%|██        | 4/20 [00:50<04:24, 16.55s/it]\n",
            "0it [00:00, ?it/s]\u001b[A\n",
            " 25%|██▌       | 5/20 [00:51<02:42, 10.82s/it]\n",
            "  0%|          | 0/1 [00:00<?, ?it/s]\u001b[A\n",
            "100%|██████████| 1/1 [00:04<00:00,  4.64s/it]\u001b[A\n",
            " 30%|███       | 6/20 [00:56<02:04,  8.93s/it]\n",
            "0it [00:00, ?it/s]\u001b[A\n",
            "\n",
            "  0%|          | 0/3 [00:00<?, ?it/s]\u001b[A\n",
            " 33%|███▎      | 1/3 [00:02<00:04,  2.46s/it]\u001b[A\n",
            " 67%|██████▋   | 2/3 [00:06<00:03,  3.21s/it]\u001b[A\n",
            "100%|██████████| 3/3 [00:12<00:00,  4.20s/it]\u001b[A\n",
            " 40%|████      | 8/20 [01:11<01:36,  8.03s/it]\n",
            "  0%|          | 0/2 [00:00<?, ?it/s]\u001b[A\n",
            " 50%|█████     | 1/2 [00:07<00:07,  7.99s/it]\u001b[A\n",
            "100%|██████████| 2/2 [00:15<00:00,  7.87s/it]\u001b[A\n",
            " 45%|████▌     | 9/20 [01:27<01:52, 10.26s/it]\n",
            "  0%|          | 0/1 [00:00<?, ?it/s]\u001b[A\n",
            "100%|██████████| 1/1 [00:11<00:00, 11.58s/it]\u001b[A\n",
            " 50%|█████     | 10/20 [01:41<01:52, 11.21s/it]\n",
            "0it [00:00, ?it/s]\u001b[A\n",
            " 55%|█████▌    | 11/20 [01:41<01:13,  8.16s/it]\n",
            "  0%|          | 0/4 [00:00<?, ?it/s]\u001b[A\n",
            " 25%|██▌       | 1/4 [00:06<00:18,  6.25s/it]\u001b[A\n",
            " 50%|█████     | 2/4 [00:12<00:12,  6.10s/it]\u001b[A\n",
            " 75%|███████▌  | 3/4 [00:20<00:07,  7.27s/it]\u001b[A\n",
            "100%|██████████| 4/4 [00:25<00:00,  6.39s/it]\u001b[A\n",
            " 60%|██████    | 12/20 [02:09<01:50, 13.85s/it]\n",
            "  0%|          | 0/6 [00:00<?, ?it/s]\u001b[A\n",
            " 17%|█▋        | 1/6 [00:06<00:34,  6.83s/it]\u001b[A\n",
            " 33%|███▎      | 2/6 [00:13<00:27,  6.90s/it]\u001b[A\n",
            " 50%|█████     | 3/6 [00:20<00:20,  6.94s/it]\u001b[A\n",
            " 67%|██████▋   | 4/6 [00:27<00:13,  6.91s/it]\u001b[A\n",
            " 83%|████████▎ | 5/6 [00:34<00:06,  6.92s/it]\u001b[A\n",
            "100%|██████████| 6/6 [00:41<00:00,  6.88s/it]\u001b[A\n",
            " 65%|██████▌   | 13/20 [02:54<02:40, 22.91s/it]\n",
            "  0%|          | 0/5 [00:00<?, ?it/s]\u001b[A\n",
            " 20%|██        | 1/5 [00:03<00:13,  3.41s/it]\u001b[A\n",
            " 40%|████      | 2/5 [00:06<00:10,  3.44s/it]\u001b[A\n",
            " 60%|██████    | 3/5 [00:10<00:06,  3.47s/it]\u001b[A\n",
            " 80%|████████  | 4/5 [00:13<00:03,  3.50s/it]\u001b[A\n",
            "100%|██████████| 5/5 [00:17<00:00,  3.47s/it]\u001b[A\n",
            " 70%|███████   | 14/20 [03:13<02:09, 21.56s/it]\n",
            "  0%|          | 0/2 [00:00<?, ?it/s]\u001b[A\n",
            " 50%|█████     | 1/2 [00:07<00:07,  7.52s/it]\u001b[A\n",
            "100%|██████████| 2/2 [00:14<00:00,  7.49s/it]\u001b[A\n",
            " 75%|███████▌  | 15/20 [03:31<01:42, 20.49s/it]\n",
            "  0%|          | 0/6 [00:00<?, ?it/s]\u001b[A\n",
            " 17%|█▋        | 1/6 [00:02<00:12,  2.44s/it]\u001b[A\n",
            " 33%|███▎      | 2/6 [00:04<00:09,  2.47s/it]\u001b[A\n",
            " 50%|█████     | 3/6 [00:07<00:07,  2.51s/it]\u001b[A\n",
            " 67%|██████▋   | 4/6 [00:09<00:04,  2.45s/it]\u001b[A\n",
            " 83%|████████▎ | 5/6 [00:12<00:02,  2.41s/it]\u001b[A\n",
            "100%|██████████| 6/6 [00:14<00:00,  2.46s/it]\u001b[A\n",
            " 80%|████████  | 16/20 [03:46<01:15, 18.96s/it]\n",
            "0it [00:00, ?it/s]\u001b[A\n",
            " 85%|████████▌ | 17/20 [03:46<00:40, 13.40s/it]\n",
            "0it [00:00, ?it/s]\u001b[A\n",
            " 90%|█████████ | 18/20 [03:46<00:18,  9.44s/it]\n",
            "  0%|          | 0/1 [00:00<?, ?it/s]\u001b[A\n",
            "100%|██████████| 1/1 [00:03<00:00,  3.31s/it]\u001b[A\n",
            " 95%|█████████▌| 19/20 [03:50<00:07,  7.70s/it]\n",
            "  0%|          | 0/3 [00:00<?, ?it/s]\u001b[A\n",
            " 33%|███▎      | 1/3 [00:03<00:06,  3.25s/it]\u001b[A\n",
            " 67%|██████▋   | 2/3 [00:06<00:03,  3.27s/it]\u001b[A\n",
            "100%|██████████| 3/3 [00:09<00:00,  3.27s/it]\u001b[A\n",
            "100%|██████████| 20/20 [04:00<00:00, 12.04s/it]\n"
          ]
        }
      ],
      "source": [
        "all_site_ids = list(set(df.site_id))\n",
        "\n",
        "number_of_files_to_create = 20\n",
        "\n",
        "for i in trange(number_of_files_to_create):\n",
        "    \n",
        "    site_id = all_site_ids[i]\n",
        "    \n",
        "    # sort first by year, then by phase\n",
        "    data = create_data(df.sort_values(by=['year', 'phase']), site_id)\n",
        "    \n",
        "    # get_the actual strings\n",
        "    policy_texts = get_policy_texts(data)\n",
        "\n",
        "    # cleaned documents using above function\n",
        "    documents = clean_text(policy_texts, cleaning_func)\n",
        "    \n",
        "    keywords, matched_dicts, changed_sentences, added, deleted = contrastive_extraction(documents, max_ngram=2,\n",
        "                                                                 min_ngram=1, show_changes=False)\n",
        "    \n",
        "    # combine keywords\n",
        "    total_keywords = combine_keywords(keywords)\n",
        "    \n",
        "    total_frame = pd.DataFrame({'keyword' : total_keywords.keys(), 'score': total_keywords.values()})\n",
        "    \n",
        "    # save total\n",
        "    total_frame.to_csv(f\"dataframes/keywords_{site_id}.csv\", index=False)\n",
        "    \n",
        "    # save itermediate\n",
        "    intermediate_frame = pd.DataFrame({'keywords': keywords.values(), 'changed': changed_sentences.values(), \n",
        "                                       'added':added.values(), 'deleted': deleted.values()})\n",
        "    \n",
        "    intermediate_frame.to_csv(f\"dataframes/inter_keywords_{site_id}.csv\", index=False)"
      ]
    },
    {
      "cell_type": "markdown",
      "id": "967f8eb3",
      "metadata": {
        "id": "967f8eb3"
      },
      "source": [
        "# Show Keywords in Context"
      ]
    },
    {
      "cell_type": "code",
      "execution_count": null,
      "id": "14a9565c",
      "metadata": {
        "id": "14a9565c"
      },
      "outputs": [],
      "source": [
        "import markdown\n",
        "from IPython.core.display import HTML"
      ]
    },
    {
      "cell_type": "code",
      "execution_count": null,
      "id": "8a4bf0c2",
      "metadata": {
        "id": "8a4bf0c2"
      },
      "outputs": [],
      "source": [
        "def top_keywords(keywords, n):\n",
        "    bound = min(len(keywords), n)\n",
        "    \n",
        "    top_keys = list(keywords.keys())[:bound]\n",
        "    \n",
        "    return {k:keywords[k] for k in top_keys}"
      ]
    },
    {
      "cell_type": "code",
      "execution_count": null,
      "id": "26923292",
      "metadata": {
        "id": "26923292"
      },
      "outputs": [],
      "source": [
        "def colour_map(keywords, n):\n",
        "    \"\"\"\n",
        "    score -> between 0 -> 1\n",
        "    \"\"\"\n",
        "    colouring = {}\n",
        "    colours = np.linspace(100, 255, n, endpoint=True)\n",
        "    \n",
        "    i = 0\n",
        "    for kw, score in keywords.items():\n",
        "        colouring[kw] = colours[i]\n",
        "        i += 1\n",
        "    return colouring"
      ]
    },
    {
      "cell_type": "code",
      "execution_count": null,
      "id": "5423a907",
      "metadata": {
        "id": "5423a907"
      },
      "outputs": [],
      "source": [
        "def create_stylesheet(keywords, colouring):\n",
        "    css_string = \"<style>\"\n",
        "    for label, score in keywords.items():\n",
        "        css_string += f\" b.{label} {{background-color: rgb(0,{colouring[label]},0);}}\"\n",
        "\n",
        "    css_string += \" </style>\"\n",
        "    \n",
        "    return css_string"
      ]
    },
    {
      "cell_type": "code",
      "execution_count": null,
      "id": "83f14662",
      "metadata": {
        "id": "83f14662"
      },
      "outputs": [],
      "source": [
        "def highlight_keywords(document, intermediate_keywords, changed_indices, matched_dict, ngram):\n",
        "    sentences = nltk.sent_tokenize(document)\n",
        "    \n",
        "    g_values = colour_map(intermediate_keywords, len(intermediate_keywords))\n",
        "    \n",
        "    for i in changed_indices:\n",
        "        \n",
        "        matched_idx, _ = matched_dict[i][0]\n",
        "\n",
        "        words = nltk.word_tokenize(sentences[int(matched_idx)])\n",
        "        \n",
        "\n",
        "        current_word = 0\n",
        "        for word in nltk.ngrams(words, ngram):\n",
        "            word = \" \".join(word)\n",
        "            if word.lower() in intermediate_keywords.keys():\n",
        "                words[current_word] = f\"<b class=\\\"{word.lower()}\\\">\" +  word +\"</b>\"\n",
        "\n",
        "            current_word += 1\n",
        "\n",
        "        sentences[int(matched_idx)] = \" \".join(words)\n",
        "    \n",
        "    highlighted_string = \" \".join(sentences)\n",
        "    \n",
        "    highlighted_string += create_stylesheet(intermediate_keywords, g_values)\n",
        "    \n",
        "    display(HTML(markdown.markdown(highlighted_string)))\n",
        "    "
      ]
    },
    {
      "cell_type": "code",
      "execution_count": null,
      "id": "c720f25c",
      "metadata": {
        "id": "c720f25c"
      },
      "outputs": [],
      "source": [
        "\n",
        "highlight_keywords(documents[4], keywords[3], changed_sentences[3], matched_dicts[3], ngram=2)"
      ]
    },
    {
      "cell_type": "code",
      "execution_count": null,
      "id": "a7975e56",
      "metadata": {
        "id": "a7975e56"
      },
      "outputs": [],
      "source": [
        "def mark_sentences(document, changed_sentences, matched_dict):\n",
        "    sentences = nltk.sent_tokenize(document)\n",
        "    \n",
        "    for i in changed_sentences:\n",
        "        matched_idx, score = matched_dict[i][0]\n",
        "        sentences[i] = \"<b class='changed'>\" + sentences[matched_idx] + \"</b>\"\n",
        "    \n",
        "    string = \" \".join(sentences)\n",
        "    string += \"<style>b.changed {background-color: #ffff99;} b.new {background-color: #A3FF66;} </sytle>\"\n",
        "\n",
        "    display(HTML(markdown.markdown(string)))"
      ]
    },
    {
      "cell_type": "code",
      "execution_count": null,
      "id": "83d2f64a",
      "metadata": {
        "id": "83d2f64a"
      },
      "outputs": [],
      "source": [
        "def mark_sentences_orig(document, changed_sentences):\n",
        "    sentences = nltk.sent_tokenize(document)\n",
        "    \n",
        "    for i in changed_sentences:\n",
        "        sentences[i] = \"<b class='old'>\" + sentences[i] + \"</b>\"\n",
        "    \n",
        "    string = \" \".join(sentences)\n",
        "    string += \"<style>b.old {background-color: rgb(0, 200, 0);} b.new {background-color: #A3FF66;} </sytle>\"\n",
        "\n",
        "    display(HTML(markdown.markdown(string)))"
      ]
    },
    {
      "cell_type": "code",
      "execution_count": null,
      "id": "fe64b459",
      "metadata": {
        "id": "fe64b459"
      },
      "outputs": [],
      "source": [
        "print(mark_sentences(documents[2], changed_sentences[1], matched_dicts[1]))"
      ]
    },
    {
      "cell_type": "code",
      "execution_count": null,
      "id": "6f0102d5",
      "metadata": {
        "id": "6f0102d5"
      },
      "outputs": [],
      "source": [
        "print(mark_sentences_orig(documents[1], changed_sentences[1]))"
      ]
    },
    {
      "cell_type": "code",
      "execution_count": null,
      "id": "e225d6d0",
      "metadata": {
        "id": "e225d6d0"
      },
      "outputs": [],
      "source": [
        "def create_html(documents, version_x, version_y, site_nr, wc = 80):\n",
        "    a = sentences = nltk.sent_tokenize(documents[version_x])\n",
        "    b = sentences = nltk.sent_tokenize(documents[version_y])\n",
        "    difference = difflib.HtmlDiff(wrapcolumn=wc)\n",
        "    \n",
        "    file_name = f\"policy_{site_nr}_versions_{version_x}_{version_y}.html\"\n",
        "    \n",
        "    with open(name, \"w\") as file:\n",
        "        html = difference.make_file(fromlines=a, \n",
        "                                    tolines=b, \n",
        "                                    fromdesc=f\"version {version_x}\", \n",
        "                                    todesc=f\"version {version_y}\")\n",
        "        \n",
        "        file.write(html)\n",
        "    \n",
        "    return html"
      ]
    },
    {
      "cell_type": "code",
      "execution_count": null,
      "id": "927f74ef",
      "metadata": {
        "id": "927f74ef"
      },
      "outputs": [],
      "source": [
        "def create_html_collection(documents, site_nr, wc = 80):\n",
        "    \n",
        "    versions = len(documents)\n",
        "    file_name = f\"policy_{site_nr}_collection.html\"\n",
        "    \n",
        "    for version in range(versions - 1):\n",
        "        a = sentences = nltk.sent_tokenize(documents[version])\n",
        "        b = sentences = nltk.sent_tokenize(documents[version + 1])\n",
        "        difference = difflib.HtmlDiff(wrapcolumn=wc)\n",
        "\n",
        "\n",
        "        with open(file_name, \"a\") as file:\n",
        "            html = difference.make_file(fromlines=a, \n",
        "                                        tolines=b, \n",
        "                                        fromdesc=f\"version {version}\", \n",
        "                                        todesc=f\"version {version + 1}\")\n",
        "\n",
        "            file.write(html)\n",
        "    \n",
        "    return html"
      ]
    },
    {
      "cell_type": "code",
      "execution_count": null,
      "id": "9f02571e",
      "metadata": {
        "id": "9f02571e"
      },
      "outputs": [],
      "source": [
        "create_html_collection(documents, site_id)"
      ]
    },
    {
      "cell_type": "code",
      "execution_count": null,
      "id": "8423cb8b",
      "metadata": {
        "id": "8423cb8b"
      },
      "outputs": [],
      "source": [
        "import difflib\n",
        "version_x = 1\n",
        "version_y = 2\n",
        "\n",
        "wrap_column = 80\n",
        "\n",
        "html = create_html(documents, version_x, version_y, file_name, wrap_column)"
      ]
    },
    {
      "cell_type": "code",
      "execution_count": null,
      "id": "2a5ec81d",
      "metadata": {
        "id": "2a5ec81d"
      },
      "outputs": [],
      "source": [
        "from IPython.core.display import display, HTML\n",
        "display(HTML(html))"
      ]
    },
    {
      "cell_type": "code",
      "execution_count": null,
      "id": "95c750f1",
      "metadata": {
        "id": "95c750f1"
      },
      "outputs": [],
      "source": [
        "deleted[0]"
      ]
    },
    {
      "cell_type": "code",
      "execution_count": null,
      "id": "d6c902ab",
      "metadata": {
        "id": "d6c902ab"
      },
      "outputs": [],
      "source": [
        "added[0]"
      ]
    },
    {
      "cell_type": "code",
      "execution_count": null,
      "id": "1874d4f4",
      "metadata": {
        "id": "1874d4f4"
      },
      "outputs": [],
      "source": [
        "keywords[1]"
      ]
    },
    {
      "cell_type": "code",
      "execution_count": null,
      "id": "6d629294",
      "metadata": {
        "id": "6d629294"
      },
      "outputs": [],
      "source": [
        "\n",
        "deleted"
      ]
    },
    {
      "cell_type": "code",
      "execution_count": null,
      "id": "85fce7a9",
      "metadata": {
        "id": "85fce7a9"
      },
      "outputs": [],
      "source": [
        "changed_sentences"
      ]
    },
    {
      "cell_type": "code",
      "execution_count": null,
      "id": "e60f9478",
      "metadata": {
        "id": "e60f9478"
      },
      "outputs": [],
      "source": []
    }
  ],
  "metadata": {
    "kernelspec": {
      "display_name": "Python 3",
      "language": "python",
      "name": "python3"
    },
    "language_info": {
      "codemirror_mode": {
        "name": "ipython",
        "version": 3
      },
      "file_extension": ".py",
      "mimetype": "text/x-python",
      "name": "python",
      "nbconvert_exporter": "python",
      "pygments_lexer": "ipython3",
      "version": "3.6.9"
    },
    "colab": {
      "provenance": []
    }
  },
  "nbformat": 4,
  "nbformat_minor": 5
}